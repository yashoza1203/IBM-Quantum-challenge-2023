{
 "cells": [
  {
   "cell_type": "code",
   "execution_count": 3,
   "id": "a67d1ee3-06f9-4743-9918-f61abad8540c",
   "metadata": {
    "tags": []
   },
   "outputs": [],
   "source": [
    "# Importing standard Qiskit libraries\n",
    "from qiskit import QuantumCircuit, transpile\n",
    "from qiskit.tools.jupyter import *\n",
    "from qiskit.visualization import *\n",
    "from ibm_quantum_widgets import *\n",
    "from qiskit_aer import AerSimulator\n",
    "\n",
    "# qiskit-ibmq-provider has been deprecated.\n",
    "# Please see the Migration Guides in https://ibm.biz/provider_migration_guide for more detail.\n",
    "from qiskit_ibm_runtime import QiskitRuntimeService, Sampler, Estimator, Session, Options\n",
    "\n",
    "# Loading your IBM Quantum account(s)\n",
    "service = QiskitRuntimeService(channel=\"ibm_quantum\")\n",
    "\n",
    "# Invoke a primitive inside a session. For more details see https://qiskit.org/documentation/partners/qiskit_ibm_runtime/tutorials.html\n",
    "# with Session(backend=service.backend(\"ibmq_qasm_simulator\")):\n",
    "#     result = Sampler().run(circuits).result()"
   ]
  },
  {
   "cell_type": "code",
   "execution_count": 4,
   "id": "d85db733-184d-4976-a7fe-3c76abcbb0a6",
   "metadata": {
    "tags": []
   },
   "outputs": [],
   "source": [
    "# Importing all the parts we need\n",
    "from typing import List, Optional\n",
    "\n",
    "from qiskit import transpile, QuantumCircuit, QuantumRegister, ClassicalRegister\n",
    "from qiskit.result import marginal_counts\n",
    "\n",
    "import warnings\n",
    "\n",
    "warnings.filterwarnings(\"ignore\")\n",
    "\n",
    "import math\n",
    "\n",
    "pi = math.pi\n",
    "\n",
    "# Preparing registers\n",
    "quantum_register = QuantumRegister(127)\n",
    "classical_register = ClassicalRegister(127)\n",
    "\n",
    "# For simplicity we map the physical qubits to the logical qubits directly using the same number.\n",
    "initial_layout = [\n",
    "    0,\n",
    "    1,\n",
    "    2,\n",
    "    3,\n",
    "    4,\n",
    "    5,\n",
    "    6,\n",
    "    7,\n",
    "    8,\n",
    "    9,\n",
    "    10,\n",
    "    11,\n",
    "    12,\n",
    "    13,\n",
    "    14,\n",
    "    15,\n",
    "    16,\n",
    "    17,\n",
    "    18,\n",
    "    19,\n",
    "    20,\n",
    "    21,\n",
    "    22,\n",
    "    23,\n",
    "    24,\n",
    "    25,\n",
    "    26,\n",
    "    27,\n",
    "    28,\n",
    "    29,\n",
    "    30,\n",
    "    31,\n",
    "    32,\n",
    "    33,\n",
    "    34,\n",
    "    35,\n",
    "    36,\n",
    "    37,\n",
    "    38,\n",
    "    39,\n",
    "    40,\n",
    "    41,\n",
    "    42,\n",
    "    43,\n",
    "    44,\n",
    "    45,\n",
    "    46,\n",
    "    47,\n",
    "    48,\n",
    "    49,\n",
    "    50,\n",
    "    51,\n",
    "    52,\n",
    "    53,\n",
    "    54,\n",
    "    55,\n",
    "    56,\n",
    "    57,\n",
    "    58,\n",
    "    59,\n",
    "    60,\n",
    "    61,\n",
    "    62,\n",
    "    63,\n",
    "    64,\n",
    "    65,\n",
    "    66,\n",
    "    67,\n",
    "    68,\n",
    "    69,\n",
    "    70,\n",
    "    71,\n",
    "    72,\n",
    "    73,\n",
    "    74,\n",
    "    75,\n",
    "    76,\n",
    "    77,\n",
    "    78,\n",
    "    79,\n",
    "    80,\n",
    "    81,\n",
    "    82,\n",
    "    83,\n",
    "    84,\n",
    "    85,\n",
    "    86,\n",
    "    87,\n",
    "    88,\n",
    "    89,\n",
    "    90,\n",
    "    91,\n",
    "    92,\n",
    "    93,\n",
    "    94,\n",
    "    95,\n",
    "    96,\n",
    "    97,\n",
    "    98,\n",
    "    99,\n",
    "    100,\n",
    "    101,\n",
    "    102,\n",
    "    103,\n",
    "    104,\n",
    "    105,\n",
    "    106,\n",
    "    107,\n",
    "    108,\n",
    "    109,\n",
    "    110,\n",
    "    111,\n",
    "    112,\n",
    "    113,\n",
    "    114,\n",
    "    115,\n",
    "    116,\n",
    "    117,\n",
    "    118,\n",
    "    119,\n",
    "    120,\n",
    "    121,\n",
    "    122,\n",
    "    123,\n",
    "    124,\n",
    "    125,\n",
    "    126,\n",
    "]\n",
    "# The \"even\"\" qubits will be used for the 54 qubit GHZ-state\n",
    "ghz_qubits = [\n",
    "    0,\n",
    "    2,\n",
    "    4,\n",
    "    6,\n",
    "    8,\n",
    "    10,\n",
    "    12,\n",
    "    18,\n",
    "    20,\n",
    "    22,\n",
    "    24,\n",
    "    26,\n",
    "    28,\n",
    "    30,\n",
    "    32,\n",
    "    37,\n",
    "    39,\n",
    "    41,\n",
    "    43,\n",
    "    45,\n",
    "    47,\n",
    "    49,\n",
    "    51,\n",
    "    56,\n",
    "    58,\n",
    "    60,\n",
    "    62,\n",
    "    64,\n",
    "    66,\n",
    "    68,\n",
    "    70,\n",
    "    75,\n",
    "    77,\n",
    "    79,\n",
    "    81,\n",
    "    83,\n",
    "    85,\n",
    "    87,\n",
    "    89,\n",
    "    94,\n",
    "    96,\n",
    "    98,\n",
    "    100,\n",
    "    102,\n",
    "    104,\n",
    "    106,\n",
    "    108,\n",
    "    114,\n",
    "    116,\n",
    "    118,\n",
    "    120,\n",
    "    122,\n",
    "    124,\n",
    "    126,\n",
    "]\n",
    "# The \"odd\" qubits will be used as the stabilizers\n",
    "stabilizer_qubits = [\n",
    "    1,\n",
    "    3,\n",
    "    5,\n",
    "    7,\n",
    "    9,\n",
    "    11,\n",
    "    14,\n",
    "    15,\n",
    "    16,\n",
    "    17,\n",
    "    19,\n",
    "    21,\n",
    "    23,\n",
    "    25,\n",
    "    27,\n",
    "    29,\n",
    "    31,\n",
    "    33,\n",
    "    34,\n",
    "    35,\n",
    "    36,\n",
    "    38,\n",
    "    40,\n",
    "    42,\n",
    "    44,\n",
    "    46,\n",
    "    48,\n",
    "    50,\n",
    "    52,\n",
    "    53,\n",
    "    54,\n",
    "    55,\n",
    "    57,\n",
    "    59,\n",
    "    61,\n",
    "    63,\n",
    "    65,\n",
    "    67,\n",
    "    69,\n",
    "    71,\n",
    "    72,\n",
    "    73,\n",
    "    74,\n",
    "    76,\n",
    "    78,\n",
    "    80,\n",
    "    82,\n",
    "    84,\n",
    "    86,\n",
    "    88,\n",
    "    90,\n",
    "    91,\n",
    "    92,\n",
    "    93,\n",
    "    95,\n",
    "    97,\n",
    "    99,\n",
    "    101,\n",
    "    103,\n",
    "    105,\n",
    "    107,\n",
    "    109,\n",
    "    110,\n",
    "    111,\n",
    "    112,\n",
    "    115,\n",
    "    117,\n",
    "    119,\n",
    "    121,\n",
    "    123,\n",
    "    125,\n",
    "]"
   ]
  },
  {
   "cell_type": "code",
   "execution_count": 5,
   "id": "85ef9c2e-a269-435f-a6d7-f257e2608177",
   "metadata": {
    "tags": []
   },
   "outputs": [],
   "source": [
    "def generate_ghz127():\n",
    "    qc = QuantumCircuit(quantum_register, classical_register)\n",
    "\n",
    "    ###### your code goes here #######\n",
    "    \n",
    "    # for i in range(1,len(quantum_register)):\n",
    "    #     qc.cx(quantum_register[0],quantum_register[i])\n",
    "    qc.h(quantum_register[62])\n",
    "    qc.cx(quantum_register[62],quantum_register[63])\n",
    "    qc.cx(quantum_register[62],quantum_register[61])\n",
    "    qc.cx(quantum_register[62],quantum_register[72])\n",
    "    \n",
    "    qc.cx(quantum_register[63],quantum_register[64])\n",
    "    qc.cx(quantum_register[61],quantum_register[60])\n",
    "    qc.cx(quantum_register[72],quantum_register[81])\n",
    "    \n",
    "    qc.cx(quantum_register[64],quantum_register[65])\n",
    "    qc.cx(quantum_register[64],quantum_register[54])\n",
    "    qc.cx(quantum_register[60],quantum_register[53])\n",
    "    qc.cx(quantum_register[60],quantum_register[59])\n",
    "    qc.cx(quantum_register[81],quantum_register[80])\n",
    "    qc.cx(quantum_register[81],quantum_register[82])\n",
    "    \n",
    "    qc.cx(quantum_register[65],quantum_register[66])\n",
    "    qc.cx(quantum_register[54],quantum_register[45])\n",
    "    qc.cx(quantum_register[53],quantum_register[41])\n",
    "    qc.cx(quantum_register[59],quantum_register[58])\n",
    "    qc.cx(quantum_register[80],quantum_register[79])\n",
    "    qc.cx(quantum_register[82],quantum_register[83])\n",
    "    \n",
    "    qc.cx(quantum_register[66],quantum_register[67])\n",
    "    qc.cx(quantum_register[66],quantum_register[73])\n",
    "    qc.cx(quantum_register[45],quantum_register[44])\n",
    "    qc.cx(quantum_register[45],quantum_register[46])\n",
    "    qc.cx(quantum_register[41],quantum_register[40])\n",
    "    qc.cx(quantum_register[41],quantum_register[42])\n",
    "    qc.cx(quantum_register[58],quantum_register[57])\n",
    "    qc.cx(quantum_register[58],quantum_register[71])\n",
    "    qc.cx(quantum_register[79],quantum_register[78])\n",
    "    qc.cx(quantum_register[79],quantum_register[91])\n",
    "    qc.cx(quantum_register[83],quantum_register[84])\n",
    "    qc.cx(quantum_register[83],quantum_register[92])\n",
    "    \n",
    "    qc.cx(quantum_register[67],quantum_register[68])\n",
    "    qc.cx(quantum_register[73],quantum_register[85])\n",
    "    qc.cx(quantum_register[44],quantum_register[43])\n",
    "    qc.cx(quantum_register[46],quantum_register[47])\n",
    "    qc.cx(quantum_register[40],quantum_register[39])\n",
    "    # qc.cx(quantum_register[42])\n",
    "    qc.cx(quantum_register[57],quantum_register[56])\n",
    "    qc.cx(quantum_register[71],quantum_register[77])\n",
    "    # qc.cx(quantum_register[78])\n",
    "    qc.cx(quantum_register[91],quantum_register[98])\n",
    "    # qc.cx(quantum_register[84])\n",
    "    qc.cx(quantum_register[92],quantum_register[102])\n",
    "    \n",
    "    \n",
    "    qc.cx(quantum_register[68],quantum_register[69])\n",
    "    qc.cx(quantum_register[68],quantum_register[55])\n",
    "    qc.cx(quantum_register[85],quantum_register[86])\n",
    "    qc.cx(quantum_register[43],quantum_register[34])\n",
    "    qc.cx(quantum_register[47],quantum_register[35])\n",
    "    qc.cx(quantum_register[47],quantum_register[48])\n",
    "    qc.cx(quantum_register[39],quantum_register[33])\n",
    "    qc.cx(quantum_register[39],quantum_register[38])\n",
    "    qc.cx(quantum_register[56],quantum_register[52])\n",
    "    qc.cx(quantum_register[77],quantum_register[76])\n",
    "    qc.cx(quantum_register[98],quantum_register[97])\n",
    "    qc.cx(quantum_register[98],quantum_register[99])\n",
    "    qc.cx(quantum_register[102],quantum_register[101])\n",
    "    qc.cx(quantum_register[102],quantum_register[103])\n",
    "    \n",
    "    qc.cx(quantum_register[69],quantum_register[70])\n",
    "    qc.cx(quantum_register[55],quantum_register[49])\n",
    "    qc.cx(quantum_register[86],quantum_register[87])\n",
    "    qc.cx(quantum_register[34],quantum_register[24])\n",
    "    qc.cx(quantum_register[35],quantum_register[28])\n",
    "    # qc.cx(quantum_register[48])\n",
    "    qc.cx(quantum_register[33],quantum_register[20])\n",
    "    qc.cx(quantum_register[38],quantum_register[37])\n",
    "    # qc.cx(quantum_register[52])\n",
    "    qc.cx(quantum_register[76],quantum_register[75])\n",
    "    qc.cx(quantum_register[97],quantum_register[96])\n",
    "    qc.cx(quantum_register[99],quantum_register[100])\n",
    "    # qc.cx(quantum_register[101])\n",
    "    qc.cx(quantum_register[103],quantum_register[104])\n",
    "    \n",
    "    qc.cx(quantum_register[70],quantum_register[74])\n",
    "    qc.cx(quantum_register[49],quantum_register[50])\n",
    "    qc.cx(quantum_register[87],quantum_register[88])\n",
    "    qc.cx(quantum_register[87],quantum_register[93])\n",
    "    qc.cx(quantum_register[24],quantum_register[23])\n",
    "    qc.cx(quantum_register[24],quantum_register[25])\n",
    "    qc.cx(quantum_register[28],quantum_register[27])\n",
    "    qc.cx(quantum_register[28],quantum_register[29])\n",
    "    qc.cx(quantum_register[20],quantum_register[19])\n",
    "    qc.cx(quantum_register[20],quantum_register[21])\n",
    "    # qc.cx(quantum_register[37])\n",
    "    qc.cx(quantum_register[75],quantum_register[90])\n",
    "    qc.cx(quantum_register[96],quantum_register[95])\n",
    "    qc.cx(quantum_register[96],quantum_register[109])\n",
    "    qc.cx(quantum_register[100],quantum_register[110])\n",
    "    qc.cx(quantum_register[104],quantum_register[105])\n",
    "    qc.cx(quantum_register[104],quantum_register[111])\n",
    "    \n",
    "    qc.cx(quantum_register[74],quantum_register[89])\n",
    "    qc.cx(quantum_register[50],quantum_register[51])\n",
    "    # qc.cx(quantum_register[88])\n",
    "    qc.cx(quantum_register[93],quantum_register[106])\n",
    "    qc.cx(quantum_register[23],quantum_register[22])\n",
    "    qc.cx(quantum_register[25],quantum_register[26])\n",
    "    # qc.cx(quantum_register[27])\n",
    "    qc.cx(quantum_register[29],quantum_register[30])\n",
    "    qc.cx(quantum_register[19],quantum_register[18])\n",
    "    # qc.cx(quantum_register[21])\n",
    "    qc.cx(quantum_register[90],quantum_register[94])\n",
    "    # qc.cx(quantum_register[95])\n",
    "    qc.cx(quantum_register[109],quantum_register[114])\n",
    "    qc.cx(quantum_register[110],quantum_register[118])\n",
    "    # qc.cx(quantum_register[105])\n",
    "    qc.cx(quantum_register[111],quantum_register[122])\n",
    "    \n",
    "    \n",
    "    # qc.cx(quantum_register[89])\n",
    "    qc.cx(quantum_register[51],quantum_register[36])\n",
    "    qc.cx(quantum_register[106],quantum_register[107])\n",
    "    qc.cx(quantum_register[22],quantum_register[15])\n",
    "    qc.cx(quantum_register[26],quantum_register[16])\n",
    "    qc.cx(quantum_register[30],quantum_register[31])\n",
    "    qc.cx(quantum_register[18],quantum_register[14])\n",
    "    # qc.cx(quantum_register[94])\n",
    "    qc.cx(quantum_register[114],quantum_register[115])\n",
    "    qc.cx(quantum_register[114],quantum_register[113])\n",
    "    qc.cx(quantum_register[118],quantum_register[119])\n",
    "    qc.cx(quantum_register[118],quantum_register[117])\n",
    "    qc.cx(quantum_register[122],quantum_register[121])\n",
    "    qc.cx(quantum_register[122],quantum_register[123])\n",
    "    \n",
    "    \n",
    "    qc.cx(quantum_register[36],quantum_register[32])\n",
    "    qc.cx(quantum_register[107],quantum_register[108])\n",
    "    qc.cx(quantum_register[15],quantum_register[4])\n",
    "    qc.cx(quantum_register[16],quantum_register[8])\n",
    "    # qc.cx(quantum_register[31])\n",
    "    qc.cx(quantum_register[14],quantum_register[0])\n",
    "    qc.cx(quantum_register[115],quantum_register[116])\n",
    "    qc.cx(quantum_register[119],quantum_register[120])\n",
    "    # qc.cx(quantum_register[117]\n",
    "    # qc.cx(quantum_register[121])\n",
    "    qc.cx(quantum_register[123],quantum_register[124])\n",
    "    \n",
    "    # qc.cx(quantum_register[32])\n",
    "    qc.cx(quantum_register[108],quantum_register[112])\n",
    "    qc.cx(quantum_register[4],quantum_register[3])\n",
    "    qc.cx(quantum_register[4],quantum_register[5])\n",
    "    qc.cx(quantum_register[8],quantum_register[7])\n",
    "    qc.cx(quantum_register[8],quantum_register[9])\n",
    "    qc.cx(quantum_register[0],quantum_register[1])\n",
    "    # qc.cx(quantum_register[116])\n",
    "    # qc.cx(quantum_register[120])\n",
    "    qc.cx(quantum_register[124],quantum_register[125])\n",
    "    \n",
    "    qc.cx(quantum_register[112],quantum_register[126])\n",
    "    qc.cx(quantum_register[3],quantum_register[2])\n",
    "    qc.cx(quantum_register[5],quantum_register[6])\n",
    "    # qc.cx(quantum_register[7])\n",
    "    qc.cx(quantum_register[9],quantum_register[10])\n",
    "    # qc.cx(quantum_register[1])\n",
    "    # qc.cx(quantum_register[125])\n",
    "    \n",
    "    # qc.cx(quantum_register[2])\n",
    "    # qc.cx(quantum_register[6])\n",
    "    qc.cx(quantum_register[10],quantum_register[11])\n",
    "    \n",
    "    # qc.cx(quantum_register[2])\n",
    "    # qc.cx(quantum_register[6])\n",
    "    qc.cx(quantum_register[11],quantum_register[12])\n",
    "    qc.cx(quantum_register[12],quantum_register[13])\n",
    "    qc.cx(quantum_register[12],quantum_register[17])\n",
    "    return qc\n",
    "\n",
    "\n",
    "ghz_circuit = generate_ghz127()"
   ]
  },
  {
   "cell_type": "code",
   "execution_count": 6,
   "id": "69df8340-c4c9-4113-9f5d-467e0246a7c6",
   "metadata": {
    "tags": []
   },
   "outputs": [],
   "source": [
    "def deentangle_qubits():\n",
    "    qc = QuantumCircuit(quantum_register, classical_register)\n",
    "\n",
    "    ####### your code goes here #######\n",
    "    \n",
    "    qc.cx(quantum_register[62],quantum_register[63])\n",
    "    qc.cx(quantum_register[62],quantum_register[61])\n",
    "    qc.cx(quantum_register[62],quantum_register[72])\n",
    "    \n",
    "    qc.cx(quantum_register[64],quantum_register[65])\n",
    "    qc.cx(quantum_register[64],quantum_register[54])\n",
    "    qc.cx(quantum_register[60],quantum_register[53])\n",
    "    qc.cx(quantum_register[60],quantum_register[59])\n",
    "    qc.cx(quantum_register[81],quantum_register[80])\n",
    "    qc.cx(quantum_register[81],quantum_register[82])\n",
    "        \n",
    "    qc.cx(quantum_register[66],quantum_register[67])\n",
    "    qc.cx(quantum_register[66],quantum_register[73])\n",
    "    qc.cx(quantum_register[45],quantum_register[44])\n",
    "    qc.cx(quantum_register[45],quantum_register[46])\n",
    "    qc.cx(quantum_register[41],quantum_register[40])\n",
    "    qc.cx(quantum_register[41],quantum_register[42])\n",
    "    qc.cx(quantum_register[58],quantum_register[57])\n",
    "    qc.cx(quantum_register[58],quantum_register[71])\n",
    "    qc.cx(quantum_register[79],quantum_register[78])\n",
    "    qc.cx(quantum_register[79],quantum_register[91])\n",
    "    qc.cx(quantum_register[83],quantum_register[84])\n",
    "    qc.cx(quantum_register[83],quantum_register[92])\n",
    "        \n",
    "    qc.cx(quantum_register[68],quantum_register[69])\n",
    "    qc.cx(quantum_register[68],quantum_register[55])\n",
    "    qc.cx(quantum_register[85],quantum_register[86])\n",
    "    qc.cx(quantum_register[43],quantum_register[34])\n",
    "    qc.cx(quantum_register[47],quantum_register[35])\n",
    "    qc.cx(quantum_register[47],quantum_register[48])\n",
    "    qc.cx(quantum_register[39],quantum_register[33])\n",
    "    qc.cx(quantum_register[39],quantum_register[38])\n",
    "    qc.cx(quantum_register[56],quantum_register[52])\n",
    "    qc.cx(quantum_register[77],quantum_register[76])\n",
    "    qc.cx(quantum_register[98],quantum_register[97])\n",
    "    qc.cx(quantum_register[98],quantum_register[99])\n",
    "    qc.cx(quantum_register[102],quantum_register[101])\n",
    "    qc.cx(quantum_register[102],quantum_register[103])\n",
    "        \n",
    "    qc.cx(quantum_register[70],quantum_register[74])\n",
    "    qc.cx(quantum_register[49],quantum_register[50])\n",
    "    qc.cx(quantum_register[87],quantum_register[88])\n",
    "    qc.cx(quantum_register[87],quantum_register[93])\n",
    "    qc.cx(quantum_register[24],quantum_register[23])\n",
    "    qc.cx(quantum_register[24],quantum_register[25])\n",
    "    qc.cx(quantum_register[28],quantum_register[27])\n",
    "    qc.cx(quantum_register[28],quantum_register[29])\n",
    "    qc.cx(quantum_register[20],quantum_register[19])\n",
    "    qc.cx(quantum_register[20],quantum_register[21])\n",
    "    qc.cx(quantum_register[75],quantum_register[90])\n",
    "    qc.cx(quantum_register[96],quantum_register[95])\n",
    "    qc.cx(quantum_register[96],quantum_register[109])\n",
    "    qc.cx(quantum_register[100],quantum_register[110])\n",
    "    qc.cx(quantum_register[104],quantum_register[105])\n",
    "    qc.cx(quantum_register[104],quantum_register[111])\n",
    "    \n",
    "    \n",
    "    qc.cx(quantum_register[51],quantum_register[36])\n",
    "    qc.cx(quantum_register[106],quantum_register[107])\n",
    "    qc.cx(quantum_register[22],quantum_register[15])\n",
    "    qc.cx(quantum_register[26],quantum_register[16])\n",
    "    qc.cx(quantum_register[30],quantum_register[31])\n",
    "    qc.cx(quantum_register[18],quantum_register[14])\n",
    "    qc.cx(quantum_register[114],quantum_register[115])\n",
    "    qc.cx(quantum_register[114],quantum_register[113])\n",
    "    qc.cx(quantum_register[118],quantum_register[119])\n",
    "    qc.cx(quantum_register[118],quantum_register[117])\n",
    "    qc.cx(quantum_register[122],quantum_register[121])\n",
    "    qc.cx(quantum_register[122],quantum_register[123])\n",
    "    \n",
    "\n",
    "    qc.cx(quantum_register[108],quantum_register[112])\n",
    "    qc.cx(quantum_register[4],quantum_register[3])\n",
    "    qc.cx(quantum_register[4],quantum_register[5])\n",
    "    qc.cx(quantum_register[8],quantum_register[7])\n",
    "    qc.cx(quantum_register[8],quantum_register[9])\n",
    "    qc.cx(quantum_register[0],quantum_register[1])\n",
    "    qc.cx(quantum_register[124],quantum_register[125])\n",
    "    \n",
    "    qc.cx(quantum_register[10],quantum_register[11])\n",
    "    \n",
    "    qc.cx(quantum_register[12],quantum_register[13])\n",
    "    qc.cx(quantum_register[12],quantum_register[17])\n",
    "    \n",
    "    return qc\n",
    "\n",
    "\n",
    "unentangle_circuit = deentangle_qubits()"
   ]
  },
  {
   "cell_type": "code",
   "execution_count": 7,
   "id": "f6f7ca8b-e85b-476e-8adf-f77aeae3d6e6",
   "metadata": {
    "tags": []
   },
   "outputs": [],
   "source": [
    "def measure_stabilizers():\n",
    "    qc = QuantumCircuit(quantum_register, classical_register)\n",
    "    qc.measure(stabilizer_qubits, stabilizer_qubits)\n",
    "    return qc\n",
    "\n",
    "\n",
    "stabilizer_circuit = measure_stabilizers()"
   ]
  },
  {
   "cell_type": "code",
   "execution_count": 8,
   "id": "84acf15c-a5f8-406e-b8a9-c90aa2d31d4c",
   "metadata": {
    "tags": []
   },
   "outputs": [],
   "source": [
    "def measure_ghz():\n",
    "    qc = QuantumCircuit(quantum_register, classical_register)\n",
    "    qc.measure(ghz_qubits, ghz_qubits)\n",
    "    return qc\n",
    "\n",
    "\n",
    "measure_circuit = measure_ghz()"
   ]
  },
  {
   "cell_type": "code",
   "execution_count": 9,
   "id": "1034b94e-2fcd-404f-a38a-2129011f574a",
   "metadata": {
    "tags": []
   },
   "outputs": [],
   "source": [
    "def test_ghz(data):\n",
    "    ghz_qubits = [\n",
    "        0,\n",
    "        2,\n",
    "        4,\n",
    "        6,\n",
    "        8,\n",
    "        10,\n",
    "        12,\n",
    "        18,\n",
    "        20,\n",
    "        22,\n",
    "        24,\n",
    "        26,\n",
    "        28,\n",
    "        30,\n",
    "        32,\n",
    "        37,\n",
    "        39,\n",
    "        41,\n",
    "        43,\n",
    "        45,\n",
    "        47,\n",
    "        49,\n",
    "        51,\n",
    "        56,\n",
    "        58,\n",
    "        60,\n",
    "        62,\n",
    "        64,\n",
    "        66,\n",
    "        68,\n",
    "        70,\n",
    "        75,\n",
    "        77,\n",
    "        79,\n",
    "        81,\n",
    "        83,\n",
    "        85,\n",
    "        81,\n",
    "        89,\n",
    "        94,\n",
    "        96,\n",
    "        98,\n",
    "        100,\n",
    "        102,\n",
    "        104,\n",
    "        106,\n",
    "        108,\n",
    "        114,\n",
    "        116,\n",
    "        118,\n",
    "        120,\n",
    "        122,\n",
    "        124,\n",
    "        126,\n",
    "    ]\n",
    "    quality_list = []\n",
    "    average = 0\n",
    "    best = len(data)\n",
    "    worst = 0\n",
    "\n",
    "    for result in data:\n",
    "        count_zeroes = 0\n",
    "        count_ones = 0\n",
    "        bit_count = -1\n",
    "        for bit in result:\n",
    "            bit_count = bit_count + 1\n",
    "            if bit_count not in ghz_qubits:\n",
    "                continue\n",
    "            if bit == \"0\":\n",
    "                count_zeroes = count_zeroes + 1\n",
    "            else:\n",
    "                count_ones = count_ones + 1\n",
    "        if count_ones < count_zeroes:\n",
    "            count_zeroes = count_ones\n",
    "\n",
    "        quality_list.append(count_zeroes)\n",
    "        average = average + count_zeroes\n",
    "\n",
    "        if count_zeroes > worst:\n",
    "            worst = count_zeroes\n",
    "        if count_zeroes < best:\n",
    "            best = count_zeroes\n",
    "\n",
    "    average = average / len(data)\n",
    "    print(average)\n",
    "    print(worst)\n",
    "    print(best)\n",
    "    return average"
   ]
  },
  {
   "cell_type": "code",
   "execution_count": 10,
   "id": "23ef3a43-b1b4-491c-999d-f59a12789a0f",
   "metadata": {
    "tags": []
   },
   "outputs": [],
   "source": [
    "from qiskit_ibm_provider import IBMProvider\n",
    "from qiskit import transpile\n",
    "\n",
    "\n",
    "provider = IBMProvider()"
   ]
  },
  {
   "cell_type": "code",
   "execution_count": 11,
   "id": "e58ea480-75a5-467e-9df2-61f3c73524df",
   "metadata": {
    "tags": []
   },
   "outputs": [
    {
     "data": {
      "text/plain": [
       "<JobStatus.DONE: 'job has successfully run'>"
      ]
     },
     "execution_count": 11,
     "metadata": {},
     "output_type": "execute_result"
    }
   ],
   "source": [
    "from qiskit_ibm_provider import IBMProvider\n",
    "job = provider.backend.retrieve_job('chmh1qtnopt07g48glc0')\n",
    "job.status()"
   ]
  },
  {
   "cell_type": "code",
   "execution_count": 12,
   "id": "1d0a1e71-d46e-490d-befc-cb29e7f98ebf",
   "metadata": {
    "tags": []
   },
   "outputs": [],
   "source": [
    "data_list = job.result().get_memory()"
   ]
  },
  {
   "cell_type": "code",
   "execution_count": 13,
   "id": "f642a33d-3288-450e-83ef-92b2da03acfe",
   "metadata": {
    "tags": []
   },
   "outputs": [],
   "source": [
    "from qiskit.providers.fake_provider import FakeSherbrooke\n",
    "from qiskit import *\n",
    "sherbrooke = FakeSherbrooke()\n",
    "backend = Aer.get_backend('qasm_simulator')\n",
    "# from qiskit.test.mock import FakeRochester\n",
    "# backend = FakeRochester()"
   ]
  },
  {
   "cell_type": "code",
   "execution_count": 14,
   "id": "590a4925-7089-493c-b490-684a9c4bf930",
   "metadata": {
    "tags": []
   },
   "outputs": [],
   "source": [
    "# backend.options = {'method': 'statevector_gpu'}"
   ]
  },
  {
   "cell_type": "code",
   "execution_count": 15,
   "id": "4326f33c-4e1d-4e5e-a20c-b458b758d028",
   "metadata": {
    "tags": []
   },
   "outputs": [],
   "source": [
    "backend_coupling_map = sherbrooke.coupling_map"
   ]
  },
  {
   "cell_type": "code",
   "execution_count": 16,
   "id": "d14cebaf-1c9d-4cbf-b957-5f323589e0f4",
   "metadata": {
    "tags": []
   },
   "outputs": [
    {
     "name": "stdout",
     "output_type": "stream",
     "text": [
      "1024\n"
     ]
    }
   ],
   "source": [
    "print(len(data_list))"
   ]
  },
  {
   "cell_type": "code",
   "execution_count": 17,
   "id": "ba322b0f-9117-4cc1-8f5a-27605db801e9",
   "metadata": {
    "tags": []
   },
   "outputs": [
    {
     "name": "stdout",
     "output_type": "stream",
     "text": [
      "15.861328125\n",
      "26\n",
      "3\n"
     ]
    },
    {
     "data": {
      "text/plain": [
       "15.861328125"
      ]
     },
     "execution_count": 17,
     "metadata": {},
     "output_type": "execute_result"
    }
   ],
   "source": [
    "test_ghz(data_list)"
   ]
  },
  {
   "cell_type": "code",
   "execution_count": 31,
   "id": "6737e3ac-5e99-4225-a611-1d0040ae9879",
   "metadata": {
    "tags": []
   },
   "outputs": [],
   "source": [
    "# Simple idea for Example A find where the error happened and flip accordingly\n",
    "def correct_ghz():\n",
    "    qc = QuantumCircuit(quantum_register, classical_register)\n",
    "    counter=1\n",
    "    \n",
    "    for data in data_list:\n",
    "        stab_list=[]\n",
    "        ghz_list=[]\n",
    "        not_list = []\n",
    "        reset_list = []\n",
    "        for i,d in enumerate(data):\n",
    "            if i in stabilizer_qubits:\n",
    "                  stab_list.append([i,d])    \n",
    "            elif i in ghz_qubits:\n",
    "                  ghz_list.append([i,d])\n",
    "\n",
    "        for i,b in stab_list:\n",
    "            if b == '1':\n",
    "                for c,t in backend_coupling_map:\n",
    "                    if i in [c,t]:\n",
    "                        if i==c:\n",
    "                            not_list.append(t)\n",
    "                        elif i==t:\n",
    "                            not_list.append(c)\n",
    "            reset_list.append(i)\n",
    "                                    \n",
    "        # for i in reset_list:\n",
    "        #     qc.reset(quantum_register[i])\n",
    "\n",
    "        for i in not_list:\n",
    "            qc.x(quantum_register[i])\n",
    "\n",
    "        not_list=list(set(not_list))\n",
    "        counter+=1\n",
    "            \n",
    "    return qc\n",
    "\n",
    "\n",
    "correcting_circuit = correct_ghz()"
   ]
  },
  {
   "cell_type": "code",
   "execution_count": 41,
   "id": "63249c7b-02e8-4157-84c4-77bce6ffecd5",
   "metadata": {
    "tags": []
   },
   "outputs": [],
   "source": [
    "simple_ghz = (\n",
    "    ghz_circuit.compose(unentangle_circuit)\n",
    "    .compose(stabilizer_circuit)\n",
    "    .compose(measure_circuit)\n",
    ")"
   ]
  },
  {
   "cell_type": "code",
   "execution_count": 42,
   "id": "d8ae5602-dc57-4290-9ed8-4338e2aa6801",
   "metadata": {
    "tags": []
   },
   "outputs": [],
   "source": [
    "qc_transpiled = transpile(simple_ghz, backend, initial_layout=initial_layout)"
   ]
  },
  {
   "cell_type": "code",
   "execution_count": 32,
   "id": "6ef6f558-5fcd-44d0-a2af-796b8e818e2a",
   "metadata": {
    "tags": []
   },
   "outputs": [],
   "source": [
    "error_corrected_ghz = (\n",
    "    ghz_circuit.compose(unentangle_circuit)\n",
    "    .compose(stabilizer_circuit)\n",
    "    .compose(correcting_circuit)\n",
    "    .compose(measure_circuit)\n",
    ")"
   ]
  },
  {
   "cell_type": "code",
   "execution_count": 33,
   "id": "fd08fe76-393a-42e4-bf94-c284980b8663",
   "metadata": {
    "tags": []
   },
   "outputs": [],
   "source": [
    "number_of_shots: int = 1024"
   ]
  },
  {
   "cell_type": "code",
   "execution_count": 34,
   "id": "bf8fa47b-5623-48e6-adf1-205db8a574ea",
   "metadata": {
    "tags": []
   },
   "outputs": [],
   "source": [
    "qc_corrected_transpiled = transpile(\n",
    "    error_corrected_ghz, backend, initial_layout=initial_layout\n",
    ")"
   ]
  },
  {
   "cell_type": "code",
   "execution_count": 43,
   "id": "59b53038-bf95-4542-8603-fb26f85c9f67",
   "metadata": {
    "tags": []
   },
   "outputs": [],
   "source": [
    "# Now we can run the job\n",
    "job_corrected = backend.run(\n",
    "    qc_transpiled,\n",
    "    dynamic=True,\n",
    "    shots=number_of_shots,\n",
    "    # job_tags=[\"dynamic\", \"spring_challenge\"]\n",
    ")"
   ]
  },
  {
   "cell_type": "code",
   "execution_count": 44,
   "id": "c12a3d45-3afe-4485-bcf5-e1dc3fc1d483",
   "metadata": {
    "tags": []
   },
   "outputs": [],
   "source": [
    "counts = job_corrected.result().get_counts()"
   ]
  },
  {
   "cell_type": "code",
   "execution_count": 46,
   "id": "091795e8-0bf1-4f47-add6-131da81e760f",
   "metadata": {
    "tags": []
   },
   "outputs": [
    {
     "data": {
      "text/plain": [
       "{'0000000000000000000000000000000000000000000000000000000000000000000000000000000000000000000000000000000000000000000000000000000': 503,\n",
       " '1010101010101000001010101010101010000101010101010101000010101010101010100001010101010101010000101010101010101000001010101010101': 521}"
      ]
     },
     "execution_count": 46,
     "metadata": {},
     "output_type": "execute_result"
    }
   ],
   "source": [
    "counts"
   ]
  },
  {
   "cell_type": "code",
   "execution_count": 47,
   "id": "2f7cc323-23d0-4e47-a3b1-583aeb6355a0",
   "metadata": {
    "tags": []
   },
   "outputs": [
    {
     "name": "stdout",
     "output_type": "stream",
     "text": [
      "0.0\n",
      "0\n",
      "0\n"
     ]
    },
    {
     "data": {
      "text/plain": [
       "0.0"
      ]
     },
     "execution_count": 47,
     "metadata": {},
     "output_type": "execute_result"
    }
   ],
   "source": [
    "test_ghz(counts)"
   ]
  },
  {
   "cell_type": "code",
   "execution_count": 36,
   "id": "d8f1ae5d-a749-4fef-9a66-137d2086b9fd",
   "metadata": {
    "tags": []
   },
   "outputs": [],
   "source": [
    "# Now we can run the job\n",
    "job_corrected = backend.run(\n",
    "    qc_corrected_transpiled,\n",
    "    dynamic=True,\n",
    "    shots=number_of_shots,\n",
    "    # job_tags=[\"dynamic\", \"spring_challenge\"]\n",
    ")"
   ]
  },
  {
   "cell_type": "code",
   "execution_count": 37,
   "id": "67151926-d3d7-4a8c-aeca-a5087504932e",
   "metadata": {
    "tags": []
   },
   "outputs": [],
   "source": [
    "counts_corrected = job_corrected.result().get_counts()"
   ]
  },
  {
   "cell_type": "code",
   "execution_count": 38,
   "id": "fc598b19-760d-4b09-b8fc-7c2ac1dcfc15",
   "metadata": {},
   "outputs": [
    {
     "data": {
      "text/plain": [
       "{'0000001000001000001010001000100000000100000001010100000010001010100000100000000101010000000000101010000000100000000000001010101': 530,\n",
       " '1010100010100000000000100010001010000001010100000001000000100000001010000001010000000101010000000000101010001000001010100000000': 494}"
      ]
     },
     "execution_count": 38,
     "metadata": {},
     "output_type": "execute_result"
    }
   ],
   "source": [
    "counts_corrected"
   ]
  },
  {
   "cell_type": "code",
   "execution_count": 39,
   "id": "957ecf9a-0908-48a6-86d8-5a66e56e029c",
   "metadata": {},
   "outputs": [
    {
     "data": {
      "text/plain": [
       "127"
      ]
     },
     "execution_count": 39,
     "metadata": {},
     "output_type": "execute_result"
    }
   ],
   "source": [
    "error_corrected_ghz.num_qubits"
   ]
  },
  {
   "cell_type": "code",
   "execution_count": 40,
   "id": "99919824-3bb3-49c6-8850-dd5c9af04918",
   "metadata": {},
   "outputs": [
    {
     "name": "stdout",
     "output_type": "stream",
     "text": [
      "26.0\n",
      "26\n",
      "2\n"
     ]
    },
    {
     "data": {
      "text/plain": [
       "26.0"
      ]
     },
     "execution_count": 40,
     "metadata": {},
     "output_type": "execute_result"
    }
   ],
   "source": [
    "test_ghz(counts_corrected)"
   ]
  },
  {
   "cell_type": "code",
   "execution_count": null,
   "id": "26bfc5e6-bac1-448a-870f-35f801017794",
   "metadata": {},
   "outputs": [],
   "source": [
    "# with reset : 26.0"
   ]
  },
  {
   "cell_type": "code",
   "execution_count": null,
   "id": "0a5fe805-444f-43c5-9f6b-a249175fb6f4",
   "metadata": {},
   "outputs": [],
   "source": []
  }
 ],
 "metadata": {
  "kernelspec": {
   "display_name": "Python 3 (ipykernel)",
   "language": "python",
   "name": "python3"
  },
  "language_info": {
   "codemirror_mode": {
    "name": "ipython",
    "version": 3
   },
   "file_extension": ".py",
   "mimetype": "text/x-python",
   "name": "python",
   "nbconvert_exporter": "python",
   "pygments_lexer": "ipython3",
   "version": "3.10.8"
  },
  "widgets": {
   "application/vnd.jupyter.widget-state+json": {
    "state": {
     "0d2f063e28b64fdbbd22f0c0c84ecc99": {
      "model_module": "@jupyter-widgets/controls",
      "model_module_version": "2.0.0",
      "model_name": "HTMLModel",
      "state": {
       "layout": "IPY_MODEL_53a6489826a342618d8bb884ed8d8bfe",
       "style": "IPY_MODEL_99bfd784031a4247a0246021ff8f663e",
       "value": "<h5>Status</h5>"
      }
     },
     "1a26b86ed7d14d0881ae99c1207933c2": {
      "model_module": "@jupyter-widgets/base",
      "model_module_version": "2.0.0",
      "model_name": "LayoutModel",
      "state": {
       "width": "145px"
      }
     },
     "30aca824f071408b9841f24dc0a8266e": {
      "model_module": "@jupyter-widgets/controls",
      "model_module_version": "2.0.0",
      "model_name": "HBoxModel",
      "state": {
       "children": [
        "IPY_MODEL_4eb2b0284f36482190444a7c216c5cc1",
        "IPY_MODEL_b5badf4084e94de08e9718ede4f89c09",
        "IPY_MODEL_0d2f063e28b64fdbbd22f0c0c84ecc99",
        "IPY_MODEL_e7ca937076e7486aba9261143df32eec",
        "IPY_MODEL_325a36fd2bd9458f9691a57b4b3c81e6"
       ],
       "layout": "IPY_MODEL_9c64e6cb3ed14a77b15454bce2e32e4f"
      }
     },
     "325a36fd2bd9458f9691a57b4b3c81e6": {
      "model_module": "@jupyter-widgets/controls",
      "model_module_version": "2.0.0",
      "model_name": "HTMLModel",
      "state": {
       "layout": "IPY_MODEL_6dddaefcd02b41b6a93804bd16c48baa",
       "style": "IPY_MODEL_341489e789c442f2b0ed81d6f9dffc8c",
       "value": "<h5>Message</h5>"
      }
     },
     "341372217e3046c2a61343187515fe9a": {
      "model_module": "@jupyter-widgets/controls",
      "model_module_version": "2.0.0",
      "model_name": "HTMLModel",
      "state": {
       "layout": "IPY_MODEL_cba1046b18c846c290e6e31e40413478",
       "style": "IPY_MODEL_710918478af349a7b4b40a79f568229d",
       "value": "<p style='font-family: IBM Plex Sans, Arial, Helvetica, sans-serif; font-size: 20px; font-weight: medium;'>Circuit Properties</p>"
      }
     },
     "341489e789c442f2b0ed81d6f9dffc8c": {
      "model_module": "@jupyter-widgets/controls",
      "model_module_version": "2.0.0",
      "model_name": "HTMLStyleModel",
      "state": {
       "description_width": "",
       "font_size": null,
       "text_color": null
      }
     },
     "4c4f402746974e729d4c68de53297630": {
      "model_module": "@jupyter-widgets/base",
      "model_module_version": "2.0.0",
      "model_name": "LayoutModel",
      "state": {
       "grid_template_areas": "\n                                       \". . . . right \"\n                                        ",
       "grid_template_columns": "20% 20% 20% 20% 20%",
       "width": "100%"
      }
     },
     "4eb2b0284f36482190444a7c216c5cc1": {
      "model_module": "@jupyter-widgets/controls",
      "model_module_version": "2.0.0",
      "model_name": "HTMLModel",
      "state": {
       "layout": "IPY_MODEL_a59a1f1d28234007b5582080ab9c265e",
       "style": "IPY_MODEL_ca9163623d434fbe84ef94b2c126314a",
       "value": "<h5>Job ID</h5>"
      }
     },
     "53a6489826a342618d8bb884ed8d8bfe": {
      "model_module": "@jupyter-widgets/base",
      "model_module_version": "2.0.0",
      "model_name": "LayoutModel",
      "state": {
       "width": "95px"
      }
     },
     "5a086d5fdbc544c0a239b52be39e74e7": {
      "model_module": "@jupyter-widgets/base",
      "model_module_version": "2.0.0",
      "model_name": "LayoutModel",
      "state": {
       "width": "70px"
      }
     },
     "6a8dfafece0147be885c26ca2744916a": {
      "model_module": "@jupyter-widgets/controls",
      "model_module_version": "2.0.0",
      "model_name": "ButtonStyleModel",
      "state": {
       "font_family": null,
       "font_size": null,
       "font_style": null,
       "font_variant": null,
       "font_weight": null,
       "text_color": null,
       "text_decoration": null
      }
     },
     "6dddaefcd02b41b6a93804bd16c48baa": {
      "model_module": "@jupyter-widgets/base",
      "model_module_version": "2.0.0",
      "model_name": "LayoutModel",
      "state": {}
     },
     "710918478af349a7b4b40a79f568229d": {
      "model_module": "@jupyter-widgets/controls",
      "model_module_version": "2.0.0",
      "model_name": "HTMLStyleModel",
      "state": {
       "description_width": "",
       "font_size": null,
       "text_color": null
      }
     },
     "8bd5380006f14226aa82d0530ca088d7": {
      "model_module": "@jupyter-widgets/controls",
      "model_module_version": "2.0.0",
      "model_name": "GridBoxModel",
      "state": {
       "children": [
        "IPY_MODEL_96bc9e3975b344ff85defafa4f2df117"
       ],
       "layout": "IPY_MODEL_4c4f402746974e729d4c68de53297630"
      }
     },
     "96619ccc52844e5ab01fc3aae4617766": {
      "model_module": "@jupyter-widgets/controls",
      "model_module_version": "2.0.0",
      "model_name": "HTMLStyleModel",
      "state": {
       "description_width": "",
       "font_size": null,
       "text_color": null
      }
     },
     "96bc9e3975b344ff85defafa4f2df117": {
      "model_module": "@jupyter-widgets/controls",
      "model_module_version": "2.0.0",
      "model_name": "ButtonModel",
      "state": {
       "button_style": "primary",
       "description": "Clear",
       "layout": "IPY_MODEL_9d088e37856c4ef495d3960ae6731d76",
       "style": "IPY_MODEL_6a8dfafece0147be885c26ca2744916a",
       "tooltip": null
      }
     },
     "99bfd784031a4247a0246021ff8f663e": {
      "model_module": "@jupyter-widgets/controls",
      "model_module_version": "2.0.0",
      "model_name": "HTMLStyleModel",
      "state": {
       "description_width": "",
       "font_size": null,
       "text_color": null
      }
     },
     "9c64e6cb3ed14a77b15454bce2e32e4f": {
      "model_module": "@jupyter-widgets/base",
      "model_module_version": "2.0.0",
      "model_name": "LayoutModel",
      "state": {
       "margin": "0px 0px 0px 37px",
       "width": "600px"
      }
     },
     "9d088e37856c4ef495d3960ae6731d76": {
      "model_module": "@jupyter-widgets/base",
      "model_module_version": "2.0.0",
      "model_name": "LayoutModel",
      "state": {
       "grid_area": "right",
       "padding": "0px 0px 0px 0px",
       "width": "70px"
      }
     },
     "a59a1f1d28234007b5582080ab9c265e": {
      "model_module": "@jupyter-widgets/base",
      "model_module_version": "2.0.0",
      "model_name": "LayoutModel",
      "state": {
       "width": "190px"
      }
     },
     "b5badf4084e94de08e9718ede4f89c09": {
      "model_module": "@jupyter-widgets/controls",
      "model_module_version": "2.0.0",
      "model_name": "HTMLModel",
      "state": {
       "layout": "IPY_MODEL_1a26b86ed7d14d0881ae99c1207933c2",
       "style": "IPY_MODEL_ed46eefab3bd4be0b3df6a6fe9d6a09d",
       "value": "<h5>Backend</h5>"
      }
     },
     "ca9163623d434fbe84ef94b2c126314a": {
      "model_module": "@jupyter-widgets/controls",
      "model_module_version": "2.0.0",
      "model_name": "HTMLStyleModel",
      "state": {
       "description_width": "",
       "font_size": null,
       "text_color": null
      }
     },
     "cba1046b18c846c290e6e31e40413478": {
      "model_module": "@jupyter-widgets/base",
      "model_module_version": "2.0.0",
      "model_name": "LayoutModel",
      "state": {
       "margin": "0px 0px 10px 0px"
      }
     },
     "e7ca937076e7486aba9261143df32eec": {
      "model_module": "@jupyter-widgets/controls",
      "model_module_version": "2.0.0",
      "model_name": "HTMLModel",
      "state": {
       "layout": "IPY_MODEL_5a086d5fdbc544c0a239b52be39e74e7",
       "style": "IPY_MODEL_96619ccc52844e5ab01fc3aae4617766",
       "value": "<h5>Queue</h5>"
      }
     },
     "ed46eefab3bd4be0b3df6a6fe9d6a09d": {
      "model_module": "@jupyter-widgets/controls",
      "model_module_version": "2.0.0",
      "model_name": "HTMLStyleModel",
      "state": {
       "description_width": "",
       "font_size": null,
       "text_color": null
      }
     }
    },
    "version_major": 2,
    "version_minor": 0
   }
  }
 },
 "nbformat": 4,
 "nbformat_minor": 5
}
