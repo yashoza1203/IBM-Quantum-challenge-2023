{
 "cells": [
  {
   "cell_type": "markdown",
   "id": "6c0b91dd-fd14-4bd9-955c-bb7580ab71ed",
   "metadata": {},
   "source": [
    "# Desafío 5: Usar 127 Qubits\n",
    "\n",
    "¡Felicitaciones por resolver los desafíos anteriores! Has demostrado que puedes utilizar con éxito circuitos dinámicos.\n",
    "Como recompensa por llegar tan lejos, podrás usar uno de nuestros dispositivos de 127 qubits.\n",
    "\n",
    "Como recordatorio, para ganar una insignia por completar el Desafío, debes haber terminado 4 de los 5 laboratorios. Tomamos esa decisión a propósito, porque sabemos que este laboratorio (a) será desafiante técnicamente y (b) utilizará uno de nuestro hardware más avanzado. La verdad al lanzar dispositivos de más de 100 qubits para que los use el público es que puede haber retrasos significativos en su capacidad para ejecutar tus trabajos. Es posible (¡aunque esperamos que no!) que no realices tu trabajo con éxito al final del Desafío. Ten en cuenta que estamos haciendo todo lo posible tras bambalinas para que tu experiencia sea un éxito, pero también tenemos un número récord de participantes en el Desafío de este año. Se amable y no envíes tus circuitos una y otra vez, lo que obstruirá la fila.\n",
    "\n",
    "Está bien, toma una respiración profunda. ¡Aquí vamos!"
   ]
  },
  {
   "cell_type": "markdown",
   "id": "6d2618d2-cfb6-4902-8e0f-c7fab74a84a0",
   "metadata": {},
   "source": [
    "Ya has visto que trabajar con dispositivos físicos reales presenta su propio conjunto de desafíos.\n",
    "Esto es aún más cierto cuando deseas utilizar una gran cantidad de qubits, ya que las rutas pueden volverse largas y debes tener cuidado con la introducción de errores. Usaremos ibm_sherbrook como nuestro dispositivo.\n",
    "\n",
    "En este desafío, queremos que prepares un estado de 127 qubits completamente entrelazado, el llamado \"estado GHZ\", de una manera inteligente.\n",
    "\n",
    "Después de eso, te guiaremos para que apliques tu conocimiento de corrección de errores al estado GHZ de 127 qubits para luego crear un buen estado GHZ de 54 qubits. Para esto, usaremos los qubits pares para el estado GHZ de 54 qubits, lo que deja los qubits impares para usarlos como estabilizadores.\n",
    "\n",
    "*Nota: Usaremos el mismo registro para los qubits pares e impares, aunque se usarán de manera diferente. Hacemos esto porque facilitará la creación del estado GHZ inicial de 127 qubits, especialmente cuando deseas optimizar la profundidad manualmente.*"
   ]
  },
  {
   "cell_type": "code",
   "execution_count": 1,
   "id": "ff5a01f6-c357-4d6d-8c86-95991b311231",
   "metadata": {
    "slideshow": {
     "slide_type": "-"
    },
    "tags": []
   },
   "outputs": [],
   "source": [
    "# Importing all the parts we need\n",
    "from typing import List, Optional\n",
    "\n",
    "from qiskit import transpile, QuantumCircuit, QuantumRegister, ClassicalRegister\n",
    "from qiskit.result import marginal_counts\n",
    "\n",
    "import warnings\n",
    "\n",
    "warnings.filterwarnings(\"ignore\")\n",
    "\n",
    "import math\n",
    "\n",
    "pi = math.pi\n",
    "\n",
    "# Preparing registers\n",
    "quantum_register = QuantumRegister(127)\n",
    "classical_register = ClassicalRegister(127)\n",
    "\n",
    "# For simplicity we map the physical qubits to the logical qubits directly using the same number.\n",
    "initial_layout = [\n",
    "    0,\n",
    "    1,\n",
    "    2,\n",
    "    3,\n",
    "    4,\n",
    "    5,\n",
    "    6,\n",
    "    7,\n",
    "    8,\n",
    "    9,\n",
    "    10,\n",
    "    11,\n",
    "    12,\n",
    "    13,\n",
    "    14,\n",
    "    15,\n",
    "    16,\n",
    "    17,\n",
    "    18,\n",
    "    19,\n",
    "    20,\n",
    "    21,\n",
    "    22,\n",
    "    23,\n",
    "    24,\n",
    "    25,\n",
    "    26,\n",
    "    27,\n",
    "    28,\n",
    "    29,\n",
    "    30,\n",
    "    31,\n",
    "    32,\n",
    "    33,\n",
    "    34,\n",
    "    35,\n",
    "    36,\n",
    "    37,\n",
    "    38,\n",
    "    39,\n",
    "    40,\n",
    "    41,\n",
    "    42,\n",
    "    43,\n",
    "    44,\n",
    "    45,\n",
    "    46,\n",
    "    47,\n",
    "    48,\n",
    "    49,\n",
    "    50,\n",
    "    51,\n",
    "    52,\n",
    "    53,\n",
    "    54,\n",
    "    55,\n",
    "    56,\n",
    "    57,\n",
    "    58,\n",
    "    59,\n",
    "    60,\n",
    "    61,\n",
    "    62,\n",
    "    63,\n",
    "    64,\n",
    "    65,\n",
    "    66,\n",
    "    67,\n",
    "    68,\n",
    "    69,\n",
    "    70,\n",
    "    71,\n",
    "    72,\n",
    "    73,\n",
    "    74,\n",
    "    75,\n",
    "    76,\n",
    "    77,\n",
    "    78,\n",
    "    79,\n",
    "    80,\n",
    "    81,\n",
    "    82,\n",
    "    83,\n",
    "    84,\n",
    "    85,\n",
    "    86,\n",
    "    87,\n",
    "    88,\n",
    "    89,\n",
    "    90,\n",
    "    91,\n",
    "    92,\n",
    "    93,\n",
    "    94,\n",
    "    95,\n",
    "    96,\n",
    "    97,\n",
    "    98,\n",
    "    99,\n",
    "    100,\n",
    "    101,\n",
    "    102,\n",
    "    103,\n",
    "    104,\n",
    "    105,\n",
    "    106,\n",
    "    107,\n",
    "    108,\n",
    "    109,\n",
    "    110,\n",
    "    111,\n",
    "    112,\n",
    "    113,\n",
    "    114,\n",
    "    115,\n",
    "    116,\n",
    "    117,\n",
    "    118,\n",
    "    119,\n",
    "    120,\n",
    "    121,\n",
    "    122,\n",
    "    123,\n",
    "    124,\n",
    "    125,\n",
    "    126,\n",
    "]\n",
    "# The \"even\"\" qubits will be used for the 54 qubit GHZ-state\n",
    "ghz_qubits = [\n",
    "    0,\n",
    "    2,\n",
    "    4,\n",
    "    6,\n",
    "    8,\n",
    "    10,\n",
    "    12,\n",
    "    18,\n",
    "    20,\n",
    "    22,\n",
    "    24,\n",
    "    26,\n",
    "    28,\n",
    "    30,\n",
    "    32,\n",
    "    37,\n",
    "    39,\n",
    "    41,\n",
    "    43,\n",
    "    45,\n",
    "    47,\n",
    "    49,\n",
    "    51,\n",
    "    56,\n",
    "    58,\n",
    "    60,\n",
    "    62,\n",
    "    64,\n",
    "    66,\n",
    "    68,\n",
    "    70,\n",
    "    75,\n",
    "    77,\n",
    "    79,\n",
    "    81,\n",
    "    83,\n",
    "    85,\n",
    "    87,\n",
    "    89,\n",
    "    94,\n",
    "    96,\n",
    "    98,\n",
    "    100,\n",
    "    102,\n",
    "    104,\n",
    "    106,\n",
    "    108,\n",
    "    114,\n",
    "    116,\n",
    "    118,\n",
    "    120,\n",
    "    122,\n",
    "    124,\n",
    "    126,\n",
    "]\n",
    "# The \"odd\" qubits will be used as the stabilizers\n",
    "stabilizer_qubits = [\n",
    "    1,\n",
    "    3,\n",
    "    5,\n",
    "    7,\n",
    "    9,\n",
    "    11,\n",
    "    14,\n",
    "    15,\n",
    "    16,\n",
    "    17,\n",
    "    19,\n",
    "    21,\n",
    "    23,\n",
    "    25,\n",
    "    27,\n",
    "    29,\n",
    "    31,\n",
    "    33,\n",
    "    34,\n",
    "    35,\n",
    "    36,\n",
    "    38,\n",
    "    40,\n",
    "    42,\n",
    "    44,\n",
    "    46,\n",
    "    48,\n",
    "    50,\n",
    "    52,\n",
    "    53,\n",
    "    54,\n",
    "    55,\n",
    "    57,\n",
    "    59,\n",
    "    61,\n",
    "    63,\n",
    "    65,\n",
    "    67,\n",
    "    69,\n",
    "    71,\n",
    "    72,\n",
    "    73,\n",
    "    74,\n",
    "    76,\n",
    "    78,\n",
    "    80,\n",
    "    82,\n",
    "    84,\n",
    "    86,\n",
    "    88,\n",
    "    90,\n",
    "    91,\n",
    "    92,\n",
    "    93,\n",
    "    95,\n",
    "    97,\n",
    "    99,\n",
    "    101,\n",
    "    103,\n",
    "    105,\n",
    "    107,\n",
    "    109,\n",
    "    110,\n",
    "    111,\n",
    "    112,\n",
    "    115,\n",
    "    117,\n",
    "    119,\n",
    "    121,\n",
    "    123,\n",
    "    125,\n",
    "]"
   ]
  },
  {
   "cell_type": "markdown",
   "id": "5ecb607c-a882-49c4-acce-d26d62c2cd69",
   "metadata": {
    "slideshow": {
     "slide_type": "-"
    },
    "tags": []
   },
   "source": [
    "## Paso 1: Crear un estado GHZ Grande\n",
    "\n",
    "En muchos algoritmos cuánticos se requiere entrelazar varios qubits entre sí. Un estado de uso frecuente en los algoritmos es el estado GHZ generalizado, el estado $(\\alpha |00...0\\rangle + \\beta |11...1\\rangle)$ con $\\alpha = \\beta$\n",
    "\n",
    "El estado GHZ está completamente entrelazado y se puede generalizar a cualquier número de qubits. ¡Lo usaremos para crear un estado GHZ de 127 qubits!\n",
    "**No importa cuántos qubits tenga el estado GHZ cuando sea medido, pues todos los qubits serán 0 o todos los qubits serán 1.**\n",
    "\n",
    "\n",
    "El desafío aquí no es entrelazar 127 qubits en teoría, sino en un dispositivo real. Esto significa que debes tener en cuenta el diseño del dispositivo (por ejemplo, evita usar compuertas CX entre qubits que no están conectados directamente entre sí). También debes intentar que la profundidad del circuito sea lo más baja posible para reducir el ruido."
   ]
  },
  {
   "cell_type": "markdown",
   "id": "cd7d72be",
   "metadata": {},
   "source": [
    "### Ejercicio 1\n",
    "\n",
    "Genera un estado GHZ de 127 qubits para el dispositivo de 127 qubits `ibm_sherbrook` utilizando solo compuertas Hadamard y CNOT. Trata de hacer esto con una profundidad del circuito lo más baja posible.\n",
    "\n",
    "*Hint: Puede ser útil pensar primero en cómo lo harías (con una profundidad mínima) para un dispositivo ideal en el que todos los qubits estén conectados entre sí.*"
   ]
  },
  {
   "cell_type": "code",
   "execution_count": 2,
   "id": "432aaaed-a05b-4397-8cb8-5e9c93980473",
   "metadata": {
    "slideshow": {
     "slide_type": "-"
    },
    "tags": []
   },
   "outputs": [
    {
     "name": "stdout",
     "output_type": "stream",
     "text": [
      "22\n"
     ]
    }
   ],
   "source": [
    "def generate_ghz127():\n",
    "    qc = QuantumCircuit(quantum_register, classical_register)\n",
    "\n",
    "    ###### your code goes here #######\n",
    "    \n",
    "    # for i in range(1,len(quantum_register)):\n",
    "    #     qc.cx(quantum_register[0],quantum_register[i])\n",
    "    qc.h(quantum_register[62])\n",
    "    qc.cx(quantum_register[62],quantum_register[63])\n",
    "    qc.cx(quantum_register[62],quantum_register[61])\n",
    "    qc.cx(quantum_register[62],quantum_register[72])\n",
    "    \n",
    "    qc.cx(quantum_register[63],quantum_register[64])\n",
    "    qc.cx(quantum_register[61],quantum_register[60])\n",
    "    qc.cx(quantum_register[72],quantum_register[81])\n",
    "    \n",
    "    qc.cx(quantum_register[64],quantum_register[65])\n",
    "    qc.cx(quantum_register[64],quantum_register[54])\n",
    "    qc.cx(quantum_register[60],quantum_register[53])\n",
    "    qc.cx(quantum_register[60],quantum_register[59])\n",
    "    qc.cx(quantum_register[81],quantum_register[80])\n",
    "    qc.cx(quantum_register[81],quantum_register[82])\n",
    "    \n",
    "    qc.cx(quantum_register[65],quantum_register[66])\n",
    "    qc.cx(quantum_register[54],quantum_register[45])\n",
    "    qc.cx(quantum_register[53],quantum_register[41])\n",
    "    qc.cx(quantum_register[59],quantum_register[58])\n",
    "    qc.cx(quantum_register[80],quantum_register[79])\n",
    "    qc.cx(quantum_register[82],quantum_register[83])\n",
    "    \n",
    "    qc.cx(quantum_register[66],quantum_register[67])\n",
    "    qc.cx(quantum_register[66],quantum_register[73])\n",
    "    qc.cx(quantum_register[45],quantum_register[44])\n",
    "    qc.cx(quantum_register[45],quantum_register[46])\n",
    "    qc.cx(quantum_register[41],quantum_register[40])\n",
    "    qc.cx(quantum_register[41],quantum_register[42])\n",
    "    qc.cx(quantum_register[58],quantum_register[57])\n",
    "    qc.cx(quantum_register[58],quantum_register[71])\n",
    "    qc.cx(quantum_register[79],quantum_register[78])\n",
    "    qc.cx(quantum_register[79],quantum_register[91])\n",
    "    qc.cx(quantum_register[83],quantum_register[84])\n",
    "    qc.cx(quantum_register[83],quantum_register[92])\n",
    "    \n",
    "    qc.cx(quantum_register[67],quantum_register[68])\n",
    "    qc.cx(quantum_register[73],quantum_register[85])\n",
    "    qc.cx(quantum_register[44],quantum_register[43])\n",
    "    qc.cx(quantum_register[46],quantum_register[47])\n",
    "    qc.cx(quantum_register[40],quantum_register[39])\n",
    "    # qc.cx(quantum_register[42])\n",
    "    qc.cx(quantum_register[57],quantum_register[56])\n",
    "    qc.cx(quantum_register[71],quantum_register[77])\n",
    "    # qc.cx(quantum_register[78])\n",
    "    qc.cx(quantum_register[91],quantum_register[98])\n",
    "    # qc.cx(quantum_register[84])\n",
    "    qc.cx(quantum_register[92],quantum_register[102])\n",
    "    \n",
    "    \n",
    "    qc.cx(quantum_register[68],quantum_register[69])\n",
    "    qc.cx(quantum_register[68],quantum_register[55])\n",
    "    qc.cx(quantum_register[85],quantum_register[86])\n",
    "    qc.cx(quantum_register[43],quantum_register[34])\n",
    "    qc.cx(quantum_register[47],quantum_register[35])\n",
    "    qc.cx(quantum_register[47],quantum_register[48])\n",
    "    qc.cx(quantum_register[39],quantum_register[33])\n",
    "    qc.cx(quantum_register[39],quantum_register[38])\n",
    "    qc.cx(quantum_register[56],quantum_register[52])\n",
    "    qc.cx(quantum_register[77],quantum_register[76])\n",
    "    qc.cx(quantum_register[98],quantum_register[97])\n",
    "    qc.cx(quantum_register[98],quantum_register[99])\n",
    "    qc.cx(quantum_register[102],quantum_register[101])\n",
    "    qc.cx(quantum_register[102],quantum_register[103])\n",
    "    \n",
    "    qc.cx(quantum_register[69],quantum_register[70])\n",
    "    qc.cx(quantum_register[55],quantum_register[49])\n",
    "    qc.cx(quantum_register[86],quantum_register[87])\n",
    "    qc.cx(quantum_register[34],quantum_register[24])\n",
    "    qc.cx(quantum_register[35],quantum_register[28])\n",
    "    # qc.cx(quantum_register[48])\n",
    "    qc.cx(quantum_register[33],quantum_register[20])\n",
    "    qc.cx(quantum_register[38],quantum_register[37])\n",
    "    # qc.cx(quantum_register[52])\n",
    "    qc.cx(quantum_register[76],quantum_register[75])\n",
    "    qc.cx(quantum_register[97],quantum_register[96])\n",
    "    qc.cx(quantum_register[99],quantum_register[100])\n",
    "    # qc.cx(quantum_register[101])\n",
    "    qc.cx(quantum_register[103],quantum_register[104])\n",
    "    \n",
    "    qc.cx(quantum_register[70],quantum_register[74])\n",
    "    qc.cx(quantum_register[49],quantum_register[50])\n",
    "    qc.cx(quantum_register[87],quantum_register[88])\n",
    "    qc.cx(quantum_register[87],quantum_register[93])\n",
    "    qc.cx(quantum_register[24],quantum_register[23])\n",
    "    qc.cx(quantum_register[24],quantum_register[25])\n",
    "    qc.cx(quantum_register[28],quantum_register[27])\n",
    "    qc.cx(quantum_register[28],quantum_register[29])\n",
    "    qc.cx(quantum_register[20],quantum_register[19])\n",
    "    qc.cx(quantum_register[20],quantum_register[21])\n",
    "    # qc.cx(quantum_register[37])\n",
    "    qc.cx(quantum_register[75],quantum_register[90])\n",
    "    qc.cx(quantum_register[96],quantum_register[95])\n",
    "    qc.cx(quantum_register[96],quantum_register[109])\n",
    "    qc.cx(quantum_register[100],quantum_register[110])\n",
    "    qc.cx(quantum_register[104],quantum_register[105])\n",
    "    qc.cx(quantum_register[104],quantum_register[111])\n",
    "    \n",
    "    qc.cx(quantum_register[74],quantum_register[89])\n",
    "    qc.cx(quantum_register[50],quantum_register[51])\n",
    "    # qc.cx(quantum_register[88])\n",
    "    qc.cx(quantum_register[93],quantum_register[106])\n",
    "    qc.cx(quantum_register[23],quantum_register[22])\n",
    "    qc.cx(quantum_register[25],quantum_register[26])\n",
    "    # qc.cx(quantum_register[27])\n",
    "    qc.cx(quantum_register[29],quantum_register[30])\n",
    "    qc.cx(quantum_register[19],quantum_register[18])\n",
    "    # qc.cx(quantum_register[21])\n",
    "    qc.cx(quantum_register[90],quantum_register[94])\n",
    "    # qc.cx(quantum_register[95])\n",
    "    qc.cx(quantum_register[109],quantum_register[114])\n",
    "    qc.cx(quantum_register[110],quantum_register[118])\n",
    "    # qc.cx(quantum_register[105])\n",
    "    qc.cx(quantum_register[111],quantum_register[122])\n",
    "    \n",
    "    \n",
    "    # qc.cx(quantum_register[89])\n",
    "    qc.cx(quantum_register[51],quantum_register[36])\n",
    "    qc.cx(quantum_register[106],quantum_register[107])\n",
    "    qc.cx(quantum_register[22],quantum_register[15])\n",
    "    qc.cx(quantum_register[26],quantum_register[16])\n",
    "    qc.cx(quantum_register[30],quantum_register[31])\n",
    "    qc.cx(quantum_register[18],quantum_register[14])\n",
    "    # qc.cx(quantum_register[94])\n",
    "    qc.cx(quantum_register[114],quantum_register[115])\n",
    "    qc.cx(quantum_register[114],quantum_register[113])\n",
    "    qc.cx(quantum_register[118],quantum_register[119])\n",
    "    qc.cx(quantum_register[118],quantum_register[117])\n",
    "    qc.cx(quantum_register[122],quantum_register[121])\n",
    "    qc.cx(quantum_register[122],quantum_register[123])\n",
    "    \n",
    "    \n",
    "    qc.cx(quantum_register[36],quantum_register[32])\n",
    "    qc.cx(quantum_register[107],quantum_register[108])\n",
    "    qc.cx(quantum_register[15],quantum_register[4])\n",
    "    qc.cx(quantum_register[16],quantum_register[8])\n",
    "    # qc.cx(quantum_register[31])\n",
    "    qc.cx(quantum_register[14],quantum_register[0])\n",
    "    qc.cx(quantum_register[115],quantum_register[116])\n",
    "    qc.cx(quantum_register[119],quantum_register[120])\n",
    "    # qc.cx(quantum_register[117]\n",
    "    # qc.cx(quantum_register[121])\n",
    "    qc.cx(quantum_register[123],quantum_register[124])\n",
    "    \n",
    "    # qc.cx(quantum_register[32])\n",
    "    qc.cx(quantum_register[108],quantum_register[112])\n",
    "    qc.cx(quantum_register[4],quantum_register[3])\n",
    "    qc.cx(quantum_register[4],quantum_register[5])\n",
    "    qc.cx(quantum_register[8],quantum_register[7])\n",
    "    qc.cx(quantum_register[8],quantum_register[9])\n",
    "    qc.cx(quantum_register[0],quantum_register[1])\n",
    "    # qc.cx(quantum_register[116])\n",
    "    # qc.cx(quantum_register[120])\n",
    "    qc.cx(quantum_register[124],quantum_register[125])\n",
    "    \n",
    "    qc.cx(quantum_register[112],quantum_register[126])\n",
    "    qc.cx(quantum_register[3],quantum_register[2])\n",
    "    qc.cx(quantum_register[5],quantum_register[6])\n",
    "    # qc.cx(quantum_register[7])\n",
    "    qc.cx(quantum_register[9],quantum_register[10])\n",
    "    # qc.cx(quantum_register[1])\n",
    "    # qc.cx(quantum_register[125])\n",
    "    \n",
    "    # qc.cx(quantum_register[2])\n",
    "    # qc.cx(quantum_register[6])\n",
    "    qc.cx(quantum_register[10],quantum_register[11])\n",
    "    \n",
    "    # qc.cx(quantum_register[2])\n",
    "    # qc.cx(quantum_register[6])\n",
    "    qc.cx(quantum_register[11],quantum_register[12])\n",
    "    qc.cx(quantum_register[12],quantum_register[13])\n",
    "    qc.cx(quantum_register[12],quantum_register[17])\n",
    "    return qc\n",
    "\n",
    "\n",
    "ghz_circuit = generate_ghz127()\n",
    "print(ghz_circuit.depth())"
   ]
  },
  {
   "cell_type": "code",
   "execution_count": 3,
   "id": "52436751",
   "metadata": {
    "tags": []
   },
   "outputs": [
    {
     "name": "stdout",
     "output_type": "stream",
     "text": [
      "Submitting your answer. Please wait...\n",
      "Failed: {'errors': [{'message': 'The challenge is not active', 'extensions': {'code': 'INVALID_QUERY'}}]}\n"
     ]
    }
   ],
   "source": [
    "# Submit your circuit\n",
    "\n",
    "from qc_grader.challenges.spring_2023 import grade_ex5a\n",
    "\n",
    "grade_ex5a(ghz_circuit)"
   ]
  },
  {
   "cell_type": "markdown",
   "id": "0bfdf52c-3579-46c3-9765-56eece914c79",
   "metadata": {
    "slideshow": {
     "slide_type": "-"
    },
    "tags": []
   },
   "source": [
    "## Paso 2: Reducir el tamaño a la mitad\n",
    "\n",
    "Ahora queremos usar el estado GHZ que creaste para formar un estado GHZ reducido solo usando los Qubits pares. Para ello, necesitaremos desentrelazar los qubits impares, de modo que puedan medirse sin dejar que el estado GHZ colapse.\n",
    "\n",
    "Como queremos desenredar los Qubits, podemos hacerlo de forma que se generen **estabilizadores**, similar a lo que hiciste en el Laboratorio 4. Los estabilizadores deben ser 0 si ambos qubits con los que están conectados tienen el mismo valor, y deben ser 1 si esos valores son diferentes.\n",
    "\n",
    "¿Cuál es el punto de hacer esto? Es posible que el observador astuto ya se haya dado cuenta: podemos usar estos estabilizadores para aplicar la corrección de errores al estado GHZ reducido."
   ]
  },
  {
   "cell_type": "markdown",
   "id": "86c18247",
   "metadata": {},
   "source": [
    "### Ejercicio 2\n",
    "\n",
    "Desentrelaza los qubits impares del estado GHZ creado para crear estabilizadores. Nuevamente, puedes desafiarte a tí mismo para hacer que la profundidad del circuito sea lo más pequeña posible.\n",
    "\n",
    "*Hint: Ten en cuenta cómo creaste tu estado GHZ arriba. Tu método de desentrelazar es específico de cómo fue creado.*"
   ]
  },
  {
   "cell_type": "code",
   "execution_count": 5,
   "id": "9e9bd773-9908-4acc-b0ce-64cf5eb1db54",
   "metadata": {
    "slideshow": {
     "slide_type": "-"
    },
    "tags": []
   },
   "outputs": [
    {
     "name": "stdout",
     "output_type": "stream",
     "text": [
      "3\n"
     ]
    }
   ],
   "source": [
    "def deentangle_qubits():\n",
    "    qc = QuantumCircuit(quantum_register, classical_register)\n",
    "\n",
    "    ####### your code goes here #######\n",
    "    \n",
    "    qc.cx(quantum_register[62],quantum_register[63])\n",
    "    qc.cx(quantum_register[62],quantum_register[61])\n",
    "    qc.cx(quantum_register[62],quantum_register[72])\n",
    "    \n",
    "    qc.cx(quantum_register[64],quantum_register[65])\n",
    "    qc.cx(quantum_register[64],quantum_register[54])\n",
    "    qc.cx(quantum_register[60],quantum_register[53])\n",
    "    qc.cx(quantum_register[60],quantum_register[59])\n",
    "    qc.cx(quantum_register[81],quantum_register[80])\n",
    "    qc.cx(quantum_register[81],quantum_register[82])\n",
    "        \n",
    "    qc.cx(quantum_register[66],quantum_register[67])\n",
    "    qc.cx(quantum_register[66],quantum_register[73])\n",
    "    qc.cx(quantum_register[45],quantum_register[44])\n",
    "    qc.cx(quantum_register[45],quantum_register[46])\n",
    "    qc.cx(quantum_register[41],quantum_register[40])\n",
    "    qc.cx(quantum_register[41],quantum_register[42])\n",
    "    qc.cx(quantum_register[58],quantum_register[57])\n",
    "    qc.cx(quantum_register[58],quantum_register[71])\n",
    "    qc.cx(quantum_register[79],quantum_register[78])\n",
    "    qc.cx(quantum_register[79],quantum_register[91])\n",
    "    qc.cx(quantum_register[83],quantum_register[84])\n",
    "    qc.cx(quantum_register[83],quantum_register[92])\n",
    "        \n",
    "    qc.cx(quantum_register[68],quantum_register[69])\n",
    "    qc.cx(quantum_register[68],quantum_register[55])\n",
    "    qc.cx(quantum_register[85],quantum_register[86])\n",
    "    qc.cx(quantum_register[43],quantum_register[34])\n",
    "    qc.cx(quantum_register[47],quantum_register[35])\n",
    "    qc.cx(quantum_register[47],quantum_register[48])\n",
    "    qc.cx(quantum_register[39],quantum_register[33])\n",
    "    qc.cx(quantum_register[39],quantum_register[38])\n",
    "    qc.cx(quantum_register[56],quantum_register[52])\n",
    "    qc.cx(quantum_register[77],quantum_register[76])\n",
    "    qc.cx(quantum_register[98],quantum_register[97])\n",
    "    qc.cx(quantum_register[98],quantum_register[99])\n",
    "    qc.cx(quantum_register[102],quantum_register[101])\n",
    "    qc.cx(quantum_register[102],quantum_register[103])\n",
    "        \n",
    "    qc.cx(quantum_register[70],quantum_register[74])\n",
    "    qc.cx(quantum_register[49],quantum_register[50])\n",
    "    qc.cx(quantum_register[87],quantum_register[88])\n",
    "    qc.cx(quantum_register[87],quantum_register[93])\n",
    "    qc.cx(quantum_register[24],quantum_register[23])\n",
    "    qc.cx(quantum_register[24],quantum_register[25])\n",
    "    qc.cx(quantum_register[28],quantum_register[27])\n",
    "    qc.cx(quantum_register[28],quantum_register[29])\n",
    "    qc.cx(quantum_register[20],quantum_register[19])\n",
    "    qc.cx(quantum_register[20],quantum_register[21])\n",
    "    qc.cx(quantum_register[75],quantum_register[90])\n",
    "    qc.cx(quantum_register[96],quantum_register[95])\n",
    "    qc.cx(quantum_register[96],quantum_register[109])\n",
    "    qc.cx(quantum_register[100],quantum_register[110])\n",
    "    qc.cx(quantum_register[104],quantum_register[105])\n",
    "    qc.cx(quantum_register[104],quantum_register[111])\n",
    "    \n",
    "    \n",
    "    qc.cx(quantum_register[51],quantum_register[36])\n",
    "    qc.cx(quantum_register[106],quantum_register[107])\n",
    "    qc.cx(quantum_register[22],quantum_register[15])\n",
    "    qc.cx(quantum_register[26],quantum_register[16])\n",
    "    qc.cx(quantum_register[30],quantum_register[31])\n",
    "    qc.cx(quantum_register[18],quantum_register[14])\n",
    "    qc.cx(quantum_register[114],quantum_register[115])\n",
    "    qc.cx(quantum_register[114],quantum_register[113])\n",
    "    qc.cx(quantum_register[118],quantum_register[119])\n",
    "    qc.cx(quantum_register[118],quantum_register[117])\n",
    "    qc.cx(quantum_register[122],quantum_register[121])\n",
    "    qc.cx(quantum_register[122],quantum_register[123])\n",
    "    \n",
    "\n",
    "    qc.cx(quantum_register[108],quantum_register[112])\n",
    "    qc.cx(quantum_register[4],quantum_register[3])\n",
    "    qc.cx(quantum_register[4],quantum_register[5])\n",
    "    qc.cx(quantum_register[8],quantum_register[7])\n",
    "    qc.cx(quantum_register[8],quantum_register[9])\n",
    "    qc.cx(quantum_register[0],quantum_register[1])\n",
    "    qc.cx(quantum_register[124],quantum_register[125])\n",
    "    \n",
    "    qc.cx(quantum_register[10],quantum_register[11])\n",
    "    \n",
    "    qc.cx(quantum_register[12],quantum_register[13])\n",
    "    qc.cx(quantum_register[12],quantum_register[17])\n",
    "    \n",
    "    return qc\n",
    "\n",
    "\n",
    "unentangle_circuit = deentangle_qubits()\n",
    "print(unentangle_circuit.depth())\n",
    "complete_circuit = ghz_circuit.compose(unentangle_circuit)\n",
    "# unentangle_circuit.draw('mpl')"
   ]
  },
  {
   "cell_type": "code",
   "execution_count": 23,
   "id": "eec56294",
   "metadata": {
    "tags": []
   },
   "outputs": [
    {
     "name": "stdout",
     "output_type": "stream",
     "text": [
      "Submitting your answer. Please wait...\n",
      "Congratulations 🎉! Your answer is correct and has been submitted.\n"
     ]
    }
   ],
   "source": [
    "# Submit your circuit\n",
    "\n",
    "from qc_grader.challenges.spring_2023 import grade_ex5b\n",
    "\n",
    "grade_ex5b(complete_circuit)"
   ]
  },
  {
   "cell_type": "markdown",
   "id": "92bd8827-441d-4006-8d85-eb7a289bd64f",
   "metadata": {
    "slideshow": {
     "slide_type": "-"
    },
    "tags": []
   },
   "source": [
    "Buen trabajo. Ahora que todos los qubits impares están desentrelazados de los qubits pares, podemos medirlos sin colapsar el estado GHZ."
   ]
  },
  {
   "cell_type": "code",
   "execution_count": 6,
   "id": "e3148f17-d168-4a9d-a0d8-82213cefd329",
   "metadata": {
    "slideshow": {
     "slide_type": "-"
    },
    "tags": []
   },
   "outputs": [],
   "source": [
    "# Measuring stabilizers this can also be used in post processing to see what went wrong.\n",
    "\n",
    "\n",
    "def measure_stabilizers():\n",
    "    qc = QuantumCircuit(quantum_register, classical_register)\n",
    "    qc.measure(stabilizer_qubits, stabilizer_qubits)\n",
    "    return qc\n",
    "\n",
    "\n",
    "stabilizer_circuit = measure_stabilizers()"
   ]
  },
  {
   "cell_type": "markdown",
   "id": "606df18e-ae9b-41ae-bd0e-cd5b6698cf9d",
   "metadata": {
    "slideshow": {
     "slide_type": "-"
    },
    "tags": []
   },
   "source": [
    "Estos resultados de medición podrían usarse para mejorar el estado GHZ de 54 qubits, pero exploraremos esa idea más adelante.\n",
    "\n",
    "Después de haber medido los qubits impares, puedes restablecerlos y usar el estado de 54 GHZ en tu algoritmo, usando los qubits impares como posibles qubits auxiliares. Sin embargo, antes de usar tu estado GHZ, probemos qué tan bueno es.\n",
    "\n",
    "¡Necesitamos medir el estado GHZ de 54 qubits!"
   ]
  },
  {
   "cell_type": "code",
   "execution_count": 7,
   "id": "0225debb-1fdc-4210-bd7a-9717386e63d5",
   "metadata": {
    "slideshow": {
     "slide_type": "-"
    },
    "tags": []
   },
   "outputs": [],
   "source": [
    "# Measuring the GHZ qubits\n",
    "\n",
    "\n",
    "def measure_ghz():\n",
    "    qc = QuantumCircuit(quantum_register, classical_register)\n",
    "    qc.measure(ghz_qubits, ghz_qubits)\n",
    "    return qc\n",
    "\n",
    "\n",
    "measure_circuit = measure_ghz()"
   ]
  },
  {
   "cell_type": "markdown",
   "id": "626508af-7785-49d6-9af1-aae36925908c",
   "metadata": {
    "slideshow": {
     "slide_type": "-"
    },
    "tags": []
   },
   "source": [
    "Ahora pongamos todo junto, para que podamos probarlo."
   ]
  },
  {
   "cell_type": "code",
   "execution_count": 8,
   "id": "d0ed3661-c930-43b8-8096-dd1379faf9cb",
   "metadata": {
    "slideshow": {
     "slide_type": "-"
    },
    "tags": []
   },
   "outputs": [],
   "source": [
    "# Everything together\n",
    "\n",
    "simple_ghz = (\n",
    "    ghz_circuit.compose(unentangle_circuit)\n",
    "    .compose(stabilizer_circuit)\n",
    "    .compose(measure_circuit)\n",
    ")"
   ]
  },
  {
   "cell_type": "markdown",
   "id": "6e8f6b50-781f-4e03-951e-94fe73136bea",
   "metadata": {
    "slideshow": {
     "slide_type": "-"
    },
    "tags": []
   },
   "source": [
    "## Paso 3: Preparar y ejecutar en el Dispositivo\n",
    "\n",
    "Ahora estamos listos para ejecutar nuestro estado GHZ en un dispositivo real, y para eso es el momento de `ibm_sherbrooke`\n",
    "\n",
    "No hay muchas personas en el mundo que hayan trabajado con 127 qubits. Pronto serás una de las pocas almas valientes en decir que lo ha hecho. Un pequeño paso para la computación cuántica, un gran salto para tu CV.\n",
    "\n",
    "Es broma :-P\n",
    "\n",
    "-----\n",
    "\n",
    "Primero preparamos todo lo que necesitamos:"
   ]
  },
  {
   "cell_type": "code",
   "execution_count": 2,
   "id": "e7472b15-0be2-447b-9b66-6e57ca915fab",
   "metadata": {
    "slideshow": {
     "slide_type": "-"
    },
    "tags": []
   },
   "outputs": [
    {
     "name": "stdout",
     "output_type": "stream",
     "text": [
      "Traceback \u001b[1;36m(most recent call last)\u001b[0m:\n",
      "\u001b[0m  Cell \u001b[0;32mIn[2], line 13\u001b[0m\n",
      "    backend = provider.get_backend(backend_name, instance=f\"{hub}/{group}/{project}\")\u001b[0m\n",
      "\u001b[0m  File \u001b[0;32m/opt/conda/lib/python3.10/site-packages/qiskit_ibm_provider/ibm_provider.py:656\u001b[0m in \u001b[0;35mget_backend\u001b[0m\n",
      "    backends = self.backends(name, instance=instance, **kwargs)\u001b[0m\n",
      "\u001b[0m  File \u001b[0;32m/opt/conda/lib/python3.10/site-packages/qiskit_ibm_provider/ibm_provider.py:557\u001b[0m in \u001b[0;35mbackends\u001b[0m\n",
      "    return self._backend.backends(\u001b[0m\n",
      "\u001b[1;36m  File \u001b[1;32m/opt/conda/lib/python3.10/site-packages/qiskit_ibm_provider/ibm_backend_service.py:165\u001b[1;36m in \u001b[1;35mbackends\u001b[1;36m\n",
      "\u001b[1;33m    raise QiskitBackendNotFoundError(\"No backend matches the criteria\")\u001b[1;36m\n",
      "\u001b[1;31mQiskitBackendNotFoundError\u001b[0m\u001b[1;31m:\u001b[0m 'No backend matches the criteria'\n",
      "\n",
      "Use %tb to get the full traceback.\n"
     ]
    },
    {
     "data": {
      "text/html": [
       "\n",
       "<style>\n",
       ".button {\n",
       "  border: none;\n",
       "  color: white;\n",
       "  padding: 4px 8px;\n",
       "  text-align: center;\n",
       "  text-decoration: none;\n",
       "  display: inline-block;\n",
       "  font-size: 12px;\n",
       "  margin: 4px 2px;\n",
       "  transition-duration: 0.2s;\n",
       "  cursor: pointer;\n",
       "}\n",
       ".iqx-button {\n",
       "  background-color: #0f62fe; \n",
       "  color: white; \n",
       "}\n",
       ".iqx-button:hover {\n",
       "  background-color: #0043ce;\n",
       "  color: white;\n",
       "}\n",
       "</style>\n",
       "<a href=\"https://stackoverflow.com/search?q=QiskitBackendNotFoundError: No backend matches the criteria\" target='_blank'><button class='button iqx-button'>Search for solution online</button></a>\n"
      ],
      "text/plain": [
       "<IPython.core.display.HTML object>"
      ]
     },
     "metadata": {},
     "output_type": "display_data"
    }
   ],
   "source": [
    "# Importing provider and getting access to the system\n",
    "from qiskit_ibm_provider import IBMProvider\n",
    "from qiskit import transpile\n",
    "\n",
    "\n",
    "provider = IBMProvider()\n",
    "\n",
    "hub = \"qc-spring-23-3\"\n",
    "group = \"group-5\"\n",
    "project = \"receYxLkt73zVssHq\"\n",
    "\n",
    "backend_name = \"ibm_sherbrooke\"\n",
    "backend = provider.get_backend(backend_name, instance=f\"{hub}/{group}/{project}\")\n",
    "\n",
    "number_of_shots: int = 1024"
   ]
  },
  {
   "cell_type": "code",
   "execution_count": 10,
   "id": "26cea628-e7db-4f9b-9af9-e3bc0945dbd2",
   "metadata": {
    "tags": []
   },
   "outputs": [
    {
     "name": "stdout",
     "output_type": "stream",
     "text": [
      "[[1, 0], [1, 2], [3, 2], [4, 3], [4, 15], [5, 4], [6, 5], [7, 6], [8, 7], [8, 9], [10, 9], [10, 11], [11, 12], [12, 13], [14, 0], [14, 18], [16, 8], [17, 12], [17, 30], [18, 19], [19, 20], [20, 33], [21, 20], [21, 22], [22, 15], [23, 22], [23, 24], [25, 24], [26, 16], [26, 25], [26, 27], [28, 27], [29, 28], [29, 30], [31, 30], [31, 32], [32, 36], [33, 39], [34, 24], [35, 28], [35, 47], [36, 51], [37, 38], [38, 39], [40, 39], [41, 40], [41, 53], [42, 41], [43, 34], [43, 42], [43, 44], [45, 44], [45, 46], [47, 46], [47, 48], [49, 48], [49, 50], [50, 51], [52, 37], [53, 60], [54, 45], [55, 49], [56, 52], [56, 57], [57, 58], [59, 58], [59, 60], [61, 60], [61, 62], [63, 62], [63, 64], [64, 54], [64, 65], [66, 65], [67, 66], [68, 55], [68, 67], [69, 68], [69, 70], [71, 58], [71, 77], [72, 62], [73, 66], [73, 85], [74, 70], [75, 76], [77, 76], [78, 77], [78, 79], [79, 91], [80, 79], [80, 81], [81, 72], [81, 82], [82, 83], [84, 83], [85, 84], [86, 85], [86, 87], [87, 88], [89, 74], [89, 88], [90, 75], [90, 94], [92, 83], [92, 102], [93, 87], [93, 106], [95, 94], [95, 96], [97, 96], [97, 98], [98, 91], [99, 98], [99, 100], [101, 100], [101, 102], [102, 103], [104, 103], [105, 104], [106, 105], [107, 106], [107, 108], [109, 96], [110, 100], [110, 118], [111, 104], [112, 108], [112, 126], [113, 114], [114, 109], [114, 115], [116, 115], [117, 116], [117, 118], [119, 118], [119, 120], [120, 121], [121, 122], [122, 111], [123, 122], [124, 123], [125, 124], [126, 125]]\n"
     ]
    }
   ],
   "source": [
    "print(backend.coupling_map)"
   ]
  },
  {
   "cell_type": "markdown",
   "id": "51277fb1-4759-456b-8b04-1c9a720cf4c8",
   "metadata": {
    "slideshow": {
     "slide_type": "-"
    },
    "tags": []
   },
   "source": [
    "Comenzamos transpilándolo para el dispositivo real. Esto no debería causar demasiados cambios, ya que (debes haber) tenido en mente el dispositivo físico cuando hiciste el circuito originalmente, y solo usaste las conexiones que existen.\n",
    "\n",
    "Si no lo hiciste, ahora es un buen momento para regresar y arreglarlo, o saltar a Discord para hablar con otros sobre cómo pensar en ese proceso."
   ]
  },
  {
   "cell_type": "code",
   "execution_count": 12,
   "id": "770c2477-0c21-4dd0-8ccb-96268b88f323",
   "metadata": {
    "slideshow": {
     "slide_type": "-"
    },
    "tags": []
   },
   "outputs": [],
   "source": [
    "# First we transpile the GHZ-state for the actual device\n",
    "qc_transpiled = transpile(simple_ghz, backend, initial_layout=initial_layout)"
   ]
  },
  {
   "cell_type": "markdown",
   "id": "3d20d85e-cef3-4b4d-a206-1ee9f452fcb0",
   "metadata": {
    "slideshow": {
     "slide_type": "-"
    },
    "tags": []
   },
   "source": [
    "Ahora estamos listos para ejecutar el trabajo en el dispositivo de 127 qubits. Agreguemos algunas etiquetas aquí para que sea más fácil encontrarlas en el futuro.\n",
    "\n",
    "Ejecutar el trabajo (job) llevará algún tiempo, dependiendo de cuántas otras personas estén en la fila tratando de ejecutar sus trabajos. ¿Ya tomaste tu café hoy? O tal vez eres más un bebedor de té. Escuché que hay un gran programa nuevo en Netflix."
   ]
  },
  {
   "cell_type": "code",
   "execution_count": null,
   "id": "2f71e153-d6ee-4502-b60f-35b61f0ef555",
   "metadata": {
    "slideshow": {
     "slide_type": "-"
    },
    "tags": []
   },
   "outputs": [],
   "source": [
    "# Now we can run the job\n",
    "# We add memory=true to be easier able to analyse  how good the result were and the tags to make it easier to find it later.\n",
    "job = backend.run(\n",
    "    qc_transpiled,\n",
    "    shots=number_of_shots,\n",
    "    memory=True,\n",
    "    job_tags=[\"ghz_state\", \"spring_challenge\"],\n",
    ")\n",
    "\n",
    "job_id = job.job_id()\n",
    "print(job_id)"
   ]
  },
  {
   "cell_type": "markdown",
   "id": "e2dc42bd-580a-427e-92c7-edc47de5aa84",
   "metadata": {
    "slideshow": {
     "slide_type": "-"
    },
    "tags": []
   },
   "source": [
    "En caso de que regreses más tarde y desees recuperar un trabajo (job), puedes encontrarlo en la página de inicio de IBM Quantum Computing con las etiquetas utilizadas anteriormente.\n",
    "\n",
    "Copia el nombre de su trabajo (su id) y reemplaza el *job_id* en la celda de abajo con el suyo. Una identificación de trabajo debería verse así: *ch36cf1pleju56fajrqg*\n",
    "\n",
    "O simplemente puedes usar directamente el job_id de la celda anterior."
   ]
  },
  {
   "cell_type": "code",
   "execution_count": 1,
   "id": "793ce595-cecc-4e47-a01c-09d0e8d1ba75",
   "metadata": {
    "tags": []
   },
   "outputs": [],
   "source": [
    "from qiskit_ibm_provider import IBMProvider\n",
    "from qiskit import transpile\n",
    "\n",
    "\n",
    "provider = IBMProvider()"
   ]
  },
  {
   "cell_type": "code",
   "execution_count": 3,
   "id": "ae75b448-c873-4d8c-b6ff-234881030e61",
   "metadata": {
    "slideshow": {
     "slide_type": "-"
    },
    "tags": []
   },
   "outputs": [
    {
     "data": {
      "text/plain": [
       "<JobStatus.DONE: 'job has successfully run'>"
      ]
     },
     "execution_count": 3,
     "metadata": {},
     "output_type": "execute_result"
    }
   ],
   "source": [
    "# Change job id to the id of your previous submitted job something like \"ch36cf1pleju56fajrqg\"\n",
    "# You only need to run this if you come back at a later time\n",
    "from qiskit_ibm_provider import IBMProvider\n",
    "job = provider.backend.retrieve_job('chmh1qtnopt07g48glc0')\n",
    "job.status()"
   ]
  },
  {
   "cell_type": "code",
   "execution_count": 4,
   "id": "6fba92ed-8722-4bf7-a951-06ff79c74b27",
   "metadata": {
    "tags": []
   },
   "outputs": [],
   "source": [
    "# Getting the data of the job for testing\n",
    "data_list = job.result().get_memory()"
   ]
  },
  {
   "cell_type": "code",
   "execution_count": 9,
   "id": "5e813c25-c838-430c-96f1-33921f0ac136",
   "metadata": {
    "tags": []
   },
   "outputs": [
    {
     "name": "stdout",
     "output_type": "stream",
     "text": [
      "1024\n"
     ]
    }
   ],
   "source": [
    "print(len(data_list))"
   ]
  },
  {
   "cell_type": "code",
   "execution_count": 10,
   "id": "54ce46ba-0c6b-4acb-b119-3cdc8eaaaea0",
   "metadata": {
    "tags": []
   },
   "outputs": [
    {
     "data": {
      "text/plain": [
       "['0000000000000001110000001111111100010100110100101000010010101100001100010000000000000000000001000000001100001000000000000000000',\n",
       " '1010101010101001101010111000101010110101010001010101011010110011011110100001010101010101010000101010100100101000000000001110101',\n",
       " '0001110000000000100001110111110001010011000000001000010100011100001111000000000100000001010101010000010101010001000110100000000',\n",
       " '1010100010101000001010011010101010000101011101010111010010110111011010100001010101010101010010101111110110101000001100001010101',\n",
       " '1010101010000001011010111111001110100101011001010101011110110011101001100101010101010101010000101101101000101000000000001000101']"
      ]
     },
     "execution_count": 10,
     "metadata": {},
     "output_type": "execute_result"
    }
   ],
   "source": [
    "data_list[:5]"
   ]
  },
  {
   "cell_type": "markdown",
   "id": "6196bb31-15ed-43f4-a36f-920989715c02",
   "metadata": {
    "slideshow": {
     "slide_type": "-"
    },
    "tags": []
   },
   "source": [
    "## Paso 4: Probar del estado GHZ\n",
    "\n",
    "¡Lo hiciste! Has ejecutado un circuito de estado GHZ en una máquina de 127 qubits. ¡¡¡Eso es genial!!!\n",
    "\n",
    "Ahora que tienes los resultados de tu estado GHZ, es hora de examinarlos. No agregamos ninguna mitigación o corrección de errores, por lo que debes esperar resultados que aún se pueden mejorar.\n",
    "\n",
    "Hay diferentes formas de probar qué tan \"buenos\" son los resultados. Puedes simplemente mirar los resultados sin procesar, pero dado que los qubits que se usan para el estado GHZ no están uno al lado del otro, esto puede ser un poco molesto. Sería útil tener una función que nos informe sobre la calidad o sobre los errores en el estado GHZ."
   ]
  },
  {
   "cell_type": "markdown",
   "id": "afce684a-490f-4460-8f4b-ed2bd6324cb7",
   "metadata": {},
   "source": [
    "### Ejercicio 3\n",
    "\n",
    "Crea una función para probar el estado GHZ.\n",
    "\n",
    "Como autores del Desafío, decidimos darte algo de libertad aquí sobre cómo quieres probar tus resultados. Encuentra una manera que tenga sentido **para ti.** Es importante decir que cuanto _menor sea la salida_ de tu función, _mejor_ será su estado GHZ.\n",
    "\n",
    "*Hint: esta función debe realizarse para probar los datos que hemos creado, por lo que solo necesitas probar los qubits que forman parte del estado GHZ*"
   ]
  },
  {
   "cell_type": "code",
   "execution_count": 26,
   "id": "7e7f0ff0-ba28-4c1f-bcac-1d439e0a560f",
   "metadata": {
    "slideshow": {
     "slide_type": "-"
    },
    "tags": []
   },
   "outputs": [
    {
     "name": "stdout",
     "output_type": "stream",
     "text": [
      "15.861328125\n",
      "26\n",
      "3\n"
     ]
    }
   ],
   "source": [
    "def test_ghz(data):\n",
    "    ghz_qubits = [\n",
    "        0,\n",
    "        2,\n",
    "        4,\n",
    "        6,\n",
    "        8,\n",
    "        10,\n",
    "        12,\n",
    "        18,\n",
    "        20,\n",
    "        22,\n",
    "        24,\n",
    "        26,\n",
    "        28,\n",
    "        30,\n",
    "        32,\n",
    "        37,\n",
    "        39,\n",
    "        41,\n",
    "        43,\n",
    "        45,\n",
    "        47,\n",
    "        49,\n",
    "        51,\n",
    "        56,\n",
    "        58,\n",
    "        60,\n",
    "        62,\n",
    "        64,\n",
    "        66,\n",
    "        68,\n",
    "        70,\n",
    "        75,\n",
    "        77,\n",
    "        79,\n",
    "        81,\n",
    "        83,\n",
    "        85,\n",
    "        81,\n",
    "        89,\n",
    "        94,\n",
    "        96,\n",
    "        98,\n",
    "        100,\n",
    "        102,\n",
    "        104,\n",
    "        106,\n",
    "        108,\n",
    "        114,\n",
    "        116,\n",
    "        118,\n",
    "        120,\n",
    "        122,\n",
    "        124,\n",
    "        126,\n",
    "    ]\n",
    "    quality_list = []\n",
    "    average = 0\n",
    "    best = len(data)\n",
    "    worst = 0\n",
    "\n",
    "    for result in data:\n",
    "        count_zeroes = 0\n",
    "        count_ones = 0\n",
    "        bit_count = -1\n",
    "        for bit in result:\n",
    "            bit_count = bit_count + 1\n",
    "            if bit_count not in ghz_qubits:\n",
    "                continue\n",
    "            if bit == \"0\":\n",
    "                count_zeroes = count_zeroes + 1\n",
    "            else:\n",
    "                count_ones = count_ones + 1\n",
    "        if count_ones < count_zeroes:\n",
    "            count_zeroes = count_ones\n",
    "\n",
    "        quality_list.append(count_zeroes)\n",
    "        average = average + count_zeroes\n",
    "\n",
    "        if count_zeroes > worst:\n",
    "            worst = count_zeroes\n",
    "        if count_zeroes < best:\n",
    "            best = count_zeroes\n",
    "\n",
    "    average = average / len(data)\n",
    "    print(average)\n",
    "    print(worst)\n",
    "    print(best)\n",
    "    return average\n",
    "\n",
    "count_before=test_ghz(data_list)"
   ]
  },
  {
   "cell_type": "markdown",
   "id": "78ed4b94-2f2a-4f95-9bd7-ae9594b13f12",
   "metadata": {
    "slideshow": {
     "slide_type": "-"
    },
    "tags": []
   },
   "source": [
    "Ahora tienes un número que califica tus resultados, según una función que diseñaste.\n",
    "\n",
    "Antes de continuar, piensa en tu método.\n",
    "- ¿Cuál sería el número para un estado realmente bueno?\n",
    "- ¿Qué hay de un estado realmente malo?\n",
    "- ¿Qué aspecto tiene un \"mal estado\"?\n",
    "- ¿Cómo puedes diseñar una función que sea fácil para que alguien entienda lo que le está diciendo?\n",
    "\n",
    "Todas estas son preguntas en las que los investigadores de IBM piensan a diario y nos mantienen extremadamente motivados para continuar haciendo que nuestros dispositivos y servicios sean lo más posiblemente fuertes y fáciles de entender. Si este tipo de trabajo también te interesa, ¡háznoslo saber!"
   ]
  },
  {
   "cell_type": "markdown",
   "id": "232165a6-8bd8-4fd9-99e6-eea55a661953",
   "metadata": {},
   "source": [
    "Ahora probemos tu función de prueba y veamos si hace lo que debería. Recuerda, debería dar resultados bajos para estados buenos, que tienen menos errores, y resultados altos para estados con muchos errores."
   ]
  },
  {
   "cell_type": "code",
   "execution_count": 17,
   "id": "b6bbc4fe-94f6-4131-95ec-a8243482bb17",
   "metadata": {
    "slideshow": {
     "slide_type": "-"
    },
    "tags": []
   },
   "outputs": [
    {
     "name": "stdout",
     "output_type": "stream",
     "text": [
      "Submitting your answer. Please wait...\n",
      "Congratulations 🎉! Your answer is correct and has been submitted.\n"
     ]
    }
   ],
   "source": [
    "# Submit your circuit\n",
    "\n",
    "from qc_grader.challenges.spring_2023 import grade_ex5c\n",
    "\n",
    "# Since we test here a function, we do not need brackets after test_ghz, since the input is the function\n",
    "grade_ex5c(test_ghz)"
   ]
  },
  {
   "cell_type": "markdown",
   "id": "f278f65b-4896-46b3-aa7c-bfea2ed866b1",
   "metadata": {
    "slideshow": {
     "slide_type": "-"
    },
    "tags": []
   },
   "source": [
    "Ahora la pregunta es: ¿cómo podemos mejorarlo?\n",
    "\n",
    "Uno de los primeros pasos sería tratar de disminuir aún más la profundidad del circuito. Veamos la profundidad de su circuito transpilado:"
   ]
  },
  {
   "cell_type": "code",
   "execution_count": 13,
   "id": "7d2ce1e5-8fc7-4ad6-ac80-04688c897285",
   "metadata": {
    "slideshow": {
     "slide_type": "-"
    },
    "tags": []
   },
   "outputs": [
    {
     "data": {
      "text/plain": [
       "67"
      ]
     },
     "execution_count": 13,
     "metadata": {},
     "output_type": "execute_result"
    }
   ],
   "source": [
    "qc_transpiled.depth()"
   ]
  },
  {
   "cell_type": "markdown",
   "id": "3322071d-a207-494e-ac17-a039a6a31743",
   "metadata": {
    "slideshow": {
     "slide_type": "-"
    },
    "tags": []
   },
   "source": [
    "Podemos ver que la profundidad aumentó durante el proceso de transpilación, en más de un factor de 2.\n",
    "\n",
    "Echa un vistazo a cómo se ve, para ver de dónde viene esta profundidad adicional:"
   ]
  },
  {
   "cell_type": "code",
   "execution_count": 16,
   "id": "f6d42633-03fc-405b-af40-970e70e48c2d",
   "metadata": {
    "collapsed": true,
    "jupyter": {
     "outputs_hidden": true
    },
    "slideshow": {
     "slide_type": "-"
    },
    "tags": []
   },
   "outputs": [
    {
     "data": {
      "image/png": "[encoded data removed]",
      "text/plain": [
       "<Figure size 470.918x17247.3 with 1 Axes>"
      ]
     },
     "execution_count": 16,
     "metadata": {},
     "output_type": "execute_result"
    }
   ],
   "source": [
    "qc_transpiled.draw(scale=0.2)"
   ]
  },
  {
   "cell_type": "markdown",
   "id": "edaa3f49-6fe8-498a-979f-f84a3b6cbfe9",
   "metadata": {
    "slideshow": {
     "slide_type": "-"
    },
    "tags": []
   },
   "source": [
    "Lo que vemos es que la compuerta Hadamard y la compuerta CX se transpilaron a otras compuertas. Esto no es sorprendente para la compuerta Hadamard, ya que ninguno de los dispositivos IBM Quantum la admite directamente. Una Hadamard siempre se construye usando 3 rotaciones. Por otro lado, la compuerta ECR que ves es nueva y solo se usa en algunos dispositivos. También es una compuerta de entrelazamiento, similar a la compuerta CX, pero funciona un poco diferente. Se puede hacer una compuerta CX usando solo una compuerta ECR y rotaciones locales.\n",
    "\n",
    "Puede encontrar más información sobre la compuerta ECR aquí:\n",
    "https://qiskit.org/documentation/stable/0.39/stubs/qiskit.circuit.library.ECRGate.html \n",
    "\n",
    "\n",
    "Reducir la profundidad suele ser la mejor manera de minimizar la tasa de error. Ahora que sabes que en su lugar se usa la compuerta ECR, ¿podrías hacer un circuito con una mejor profundidad?\n",
    "\n",
    "Si estás interesado en explorar esa pregunta y otros métodos para mejorar el estado GHZ, no dudes en seguir leyendo. La siguiente parte del laboratorio es extra: no quedan ejercicios. Se entiende como una breve perspectiva para mostrar cómo se podría usar la corrección de errores, pero también para mostrar por qué la corrección de errores puede ser difícil.\n"
   ]
  },
  {
   "cell_type": "markdown",
   "id": "0d92d49b-f0e9-491d-9178-b6535bb9f00c",
   "metadata": {},
   "source": [
    "Ya sea que elijas continuar o no, date un aplauso: **¡Acabas de completar el IBM Quantum Challenge: Spring de 2023!** ¡Presume de ello con todos los demás en Discord, nos vemos allí!"
   ]
  },
  {
   "cell_type": "markdown",
   "id": "9a82183f-8bc3-45e8-a7a0-d08a3e21824b",
   "metadata": {
    "slideshow": {
     "slide_type": "-"
    },
    "tags": []
   },
   "source": [
    "# Extra: La Manera de Corregir Errores\n",
    "\n",
    "La corrección de errores sigue siendo un tema de investigación activo e importante. Por lo tanto, corregir errores en un dispositivo real, incluso en un caso simple como nuestro ejemplo de estado GHZ, no es tan sencillo y queremos darle la oportunidad de generar tus propias ideas, mientras te brindamos orientación y sugerencias sobre qué posibles formas podrían ser.\n",
    "\n",
    "\n",
    "\n",
    "## Paso 1: ¿Qué tan bueno es el Estado actual?\n",
    "\n",
    "Antes de que podamos corregir cualquier error, primero debemos saber qué tan bueno era el estado, e incluso esto no es tan sencillo como podría pensarse.\n",
    "\n",
    "\n",
    "La forma más sencilla de probar qué tan bueno fue tu estado GHZ es probar cuántos de los qubits pares tienen resultados diferentes de la mayoría. Esto es lo que probablemente hayas usado arriba.\n",
    "\n",
    "\n",
    "Sin embargo, esto no significa necesariamente que esto también se correlacionó con la cantidad de errores que ocurrieron. Y uno podría decir que la cantidad de errores que ocurrieron es más importante, para decir qué tan bueno es el estado GHZ.\n",
    "\n",
    "\n",
    "**Ejemplo A** para ilustrar este pensamiento: Digamos que tenemos 10 qubits conectados en una línea y formamos un estado GHZ con ellos:\n",
    "\n",
    "0 - 1 - 2 - 3 - 4 - 5 - 6 - 7 - 8 - 9\n",
    "\n",
    "Si ahora decimos que el error no ocurrió en la lectura, pero al aplicar la compuerta entrelazadora entre el qubit 4 y el qubit 5, la salida podría verse así:\n",
    "\n",
    "0000011111 \n",
    "\n",
    "Este sería el peor resultado posible para la medición de \"cuántos qubits tienen el mismo resultado\".\n",
    "\n",
    "Por esta razón, una ejecución en la que se produjeron más errores podría conducir a una mejor medida de \"cuántos qubits tienen el mismo resultado\", aunque lo más probable es que ese estado sea mucho menos útil.\n",
    "\n",
    "Si se hubiera creado el estado anterior y tuvieras mediciones estabilizadoras (en funcionamiento) entre los qubits, solo tendrías el qubit 4 y el 5 con 1. Y para corregir ese error, podrías simplemente voltear los qubits del 5 al 9.\n",
    "\n",
    "\n",
    "Para tener una primera idea de cómo se ven los errores en tu caso, podría ser una buena idea mirar los datos sin procesar, los resultados que obtuviste al ejecutarlos en el dispositivo real y tener en cuenta cómo construiste el estado GHZ.\n",
    "\n",
    "\n",
    "Para el **Ejemplo A**, tal vez podríamos encontrar una corrección de errores que se vería así:\n"
   ]
  },
  {
   "cell_type": "code",
   "execution_count": 22,
   "id": "4d96b276-ccbd-4183-8d44-6055cea976b7",
   "metadata": {
    "collapsed": true,
    "jupyter": {
     "outputs_hidden": true
    },
    "slideshow": {
     "slide_type": "-"
    },
    "tags": []
   },
   "outputs": [
    {
     "name": "stdout",
     "output_type": "stream",
     "text": [
      "1\n",
      "2\n",
      "3\n",
      "4\n",
      "5\n",
      "6\n",
      "7\n",
      "8\n",
      "9\n",
      "10\n",
      "11\n",
      "12\n",
      "13\n",
      "14\n",
      "15\n",
      "16\n",
      "17\n",
      "18\n",
      "19\n",
      "20\n",
      "21\n",
      "22\n",
      "23\n",
      "24\n",
      "25\n",
      "26\n",
      "27\n",
      "28\n",
      "29\n",
      "30\n",
      "31\n",
      "32\n",
      "33\n",
      "34\n",
      "35\n",
      "36\n",
      "37\n",
      "38\n",
      "39\n",
      "40\n",
      "41\n",
      "42\n",
      "43\n",
      "44\n",
      "45\n",
      "46\n",
      "47\n",
      "48\n",
      "49\n",
      "50\n",
      "51\n",
      "52\n",
      "53\n",
      "54\n",
      "55\n",
      "56\n",
      "57\n",
      "58\n",
      "59\n",
      "60\n",
      "61\n",
      "62\n",
      "63\n",
      "64\n",
      "65\n",
      "66\n",
      "67\n",
      "68\n",
      "69\n",
      "70\n",
      "71\n",
      "72\n",
      "73\n",
      "74\n",
      "75\n",
      "76\n",
      "77\n",
      "78\n",
      "79\n",
      "80\n",
      "81\n",
      "82\n",
      "83\n",
      "84\n",
      "85\n",
      "86\n",
      "87\n",
      "88\n",
      "89\n",
      "90\n",
      "91\n",
      "92\n",
      "93\n",
      "94\n",
      "95\n",
      "96\n",
      "97\n",
      "98\n",
      "99\n",
      "100\n",
      "101\n",
      "102\n",
      "103\n",
      "104\n",
      "105\n",
      "106\n",
      "107\n",
      "108\n",
      "109\n",
      "110\n",
      "111\n",
      "112\n",
      "113\n",
      "114\n",
      "115\n",
      "116\n",
      "117\n",
      "118\n",
      "119\n",
      "120\n",
      "121\n",
      "122\n",
      "123\n",
      "124\n",
      "125\n",
      "126\n",
      "127\n",
      "128\n",
      "129\n",
      "130\n",
      "131\n",
      "132\n",
      "133\n",
      "134\n",
      "135\n",
      "136\n",
      "137\n",
      "138\n",
      "139\n",
      "140\n",
      "141\n",
      "142\n",
      "143\n",
      "144\n",
      "145\n",
      "146\n",
      "147\n",
      "148\n",
      "149\n",
      "150\n",
      "151\n",
      "152\n",
      "153\n",
      "154\n",
      "155\n",
      "156\n",
      "157\n",
      "158\n",
      "159\n",
      "160\n",
      "161\n",
      "162\n",
      "163\n",
      "164\n",
      "165\n",
      "166\n",
      "167\n",
      "168\n",
      "169\n",
      "170\n",
      "171\n",
      "172\n",
      "173\n",
      "174\n",
      "175\n",
      "176\n",
      "177\n",
      "178\n",
      "179\n",
      "180\n",
      "181\n",
      "182\n",
      "183\n",
      "184\n",
      "185\n",
      "186\n",
      "187\n",
      "188\n",
      "189\n",
      "190\n",
      "191\n",
      "192\n",
      "193\n",
      "194\n",
      "195\n",
      "196\n",
      "197\n",
      "198\n",
      "199\n",
      "200\n",
      "201\n",
      "202\n",
      "203\n",
      "204\n",
      "205\n",
      "206\n",
      "207\n",
      "208\n",
      "209\n",
      "210\n",
      "211\n",
      "212\n",
      "213\n",
      "214\n",
      "215\n",
      "216\n",
      "217\n",
      "218\n",
      "219\n",
      "220\n",
      "221\n",
      "222\n",
      "223\n",
      "224\n",
      "225\n",
      "226\n",
      "227\n",
      "228\n",
      "229\n",
      "230\n",
      "231\n",
      "232\n",
      "233\n",
      "234\n",
      "235\n",
      "236\n",
      "237\n",
      "238\n",
      "239\n",
      "240\n",
      "241\n",
      "242\n",
      "243\n",
      "244\n",
      "245\n",
      "246\n",
      "247\n",
      "248\n",
      "249\n",
      "250\n",
      "251\n",
      "252\n",
      "253\n",
      "254\n",
      "255\n",
      "256\n",
      "257\n",
      "258\n",
      "259\n",
      "260\n",
      "261\n",
      "262\n",
      "263\n",
      "264\n",
      "265\n",
      "266\n",
      "267\n",
      "268\n",
      "269\n",
      "270\n",
      "271\n",
      "272\n",
      "273\n",
      "274\n",
      "275\n",
      "276\n",
      "277\n",
      "278\n",
      "279\n",
      "280\n",
      "281\n",
      "282\n",
      "283\n",
      "284\n",
      "285\n",
      "286\n",
      "287\n",
      "288\n",
      "289\n",
      "290\n",
      "291\n",
      "292\n",
      "293\n",
      "294\n",
      "295\n",
      "296\n",
      "297\n",
      "298\n",
      "299\n",
      "300\n",
      "301\n",
      "302\n",
      "303\n",
      "304\n",
      "305\n",
      "306\n",
      "307\n",
      "308\n",
      "309\n",
      "310\n",
      "311\n",
      "312\n",
      "313\n",
      "314\n",
      "315\n",
      "316\n",
      "317\n",
      "318\n",
      "319\n",
      "320\n",
      "321\n",
      "322\n",
      "323\n",
      "324\n",
      "325\n",
      "326\n",
      "327\n",
      "328\n",
      "329\n",
      "330\n",
      "331\n",
      "332\n",
      "333\n",
      "334\n",
      "335\n",
      "336\n",
      "337\n",
      "338\n",
      "339\n",
      "340\n",
      "341\n",
      "342\n",
      "343\n",
      "344\n",
      "345\n",
      "346\n",
      "347\n",
      "348\n",
      "349\n",
      "350\n",
      "351\n",
      "352\n",
      "353\n",
      "354\n",
      "355\n",
      "356\n",
      "357\n",
      "358\n",
      "359\n",
      "360\n",
      "361\n",
      "362\n",
      "363\n",
      "364\n",
      "365\n",
      "366\n",
      "367\n",
      "368\n",
      "369\n",
      "370\n",
      "371\n",
      "372\n",
      "373\n",
      "374\n",
      "375\n",
      "376\n",
      "377\n",
      "378\n",
      "379\n",
      "380\n",
      "381\n",
      "382\n",
      "383\n",
      "384\n",
      "385\n",
      "386\n",
      "387\n",
      "388\n",
      "389\n",
      "390\n",
      "391\n",
      "392\n",
      "393\n",
      "394\n",
      "395\n",
      "396\n",
      "397\n",
      "398\n",
      "399\n",
      "400\n",
      "401\n",
      "402\n",
      "403\n",
      "404\n",
      "405\n",
      "406\n",
      "407\n",
      "408\n",
      "409\n",
      "410\n",
      "411\n",
      "412\n",
      "413\n",
      "414\n",
      "415\n",
      "416\n",
      "417\n",
      "418\n",
      "419\n",
      "420\n",
      "421\n",
      "422\n",
      "423\n",
      "424\n",
      "425\n",
      "426\n",
      "427\n",
      "428\n",
      "429\n",
      "430\n",
      "431\n",
      "432\n",
      "433\n",
      "434\n",
      "435\n",
      "436\n",
      "437\n",
      "438\n",
      "439\n",
      "440\n",
      "441\n",
      "442\n",
      "443\n",
      "444\n",
      "445\n",
      "446\n",
      "447\n",
      "448\n",
      "449\n",
      "450\n",
      "451\n",
      "452\n",
      "453\n",
      "454\n",
      "455\n",
      "456\n",
      "457\n",
      "458\n",
      "459\n",
      "460\n",
      "461\n",
      "462\n",
      "463\n",
      "464\n",
      "465\n",
      "466\n",
      "467\n",
      "468\n",
      "469\n",
      "470\n",
      "471\n",
      "472\n",
      "473\n",
      "474\n",
      "475\n",
      "476\n",
      "477\n",
      "478\n",
      "479\n",
      "480\n",
      "481\n",
      "482\n",
      "483\n",
      "484\n",
      "485\n",
      "486\n",
      "487\n",
      "488\n",
      "489\n",
      "490\n",
      "491\n",
      "492\n",
      "493\n",
      "494\n",
      "495\n",
      "496\n",
      "497\n",
      "498\n",
      "499\n",
      "500\n",
      "501\n",
      "502\n",
      "503\n",
      "504\n",
      "505\n",
      "506\n",
      "507\n",
      "508\n",
      "509\n",
      "510\n",
      "511\n",
      "512\n",
      "513\n",
      "514\n",
      "515\n",
      "516\n",
      "517\n",
      "518\n",
      "519\n",
      "520\n",
      "521\n",
      "522\n",
      "523\n",
      "524\n",
      "525\n",
      "526\n",
      "527\n",
      "528\n",
      "529\n",
      "530\n",
      "531\n",
      "532\n",
      "533\n",
      "534\n",
      "535\n",
      "536\n",
      "537\n",
      "538\n",
      "539\n",
      "540\n",
      "541\n",
      "542\n",
      "543\n",
      "544\n",
      "545\n",
      "546\n",
      "547\n",
      "548\n",
      "549\n",
      "550\n",
      "551\n",
      "552\n",
      "553\n",
      "554\n",
      "555\n",
      "556\n",
      "557\n",
      "558\n",
      "559\n",
      "560\n",
      "561\n",
      "562\n",
      "563\n",
      "564\n",
      "565\n",
      "566\n",
      "567\n",
      "568\n",
      "569\n",
      "570\n",
      "571\n",
      "572\n",
      "573\n",
      "574\n",
      "575\n",
      "576\n",
      "577\n",
      "578\n",
      "579\n",
      "580\n",
      "581\n",
      "582\n",
      "583\n",
      "584\n",
      "585\n",
      "586\n",
      "587\n",
      "588\n",
      "589\n",
      "590\n",
      "591\n",
      "592\n",
      "593\n",
      "594\n",
      "595\n",
      "596\n",
      "597\n",
      "598\n",
      "599\n",
      "600\n",
      "601\n",
      "602\n",
      "603\n",
      "604\n",
      "605\n",
      "606\n",
      "607\n",
      "608\n",
      "609\n",
      "610\n",
      "611\n",
      "612\n",
      "613\n",
      "614\n",
      "615\n",
      "616\n",
      "617\n",
      "618\n",
      "619\n",
      "620\n",
      "621\n",
      "622\n",
      "623\n",
      "624\n",
      "625\n",
      "626\n",
      "627\n",
      "628\n",
      "629\n",
      "630\n",
      "631\n",
      "632\n",
      "633\n",
      "634\n",
      "635\n",
      "636\n",
      "637\n",
      "638\n",
      "639\n",
      "640\n",
      "641\n",
      "642\n",
      "643\n",
      "644\n",
      "645\n",
      "646\n",
      "647\n",
      "648\n",
      "649\n",
      "650\n",
      "651\n",
      "652\n",
      "653\n",
      "654\n",
      "655\n",
      "656\n",
      "657\n",
      "658\n",
      "659\n",
      "660\n",
      "661\n",
      "662\n",
      "663\n",
      "664\n",
      "665\n",
      "666\n",
      "667\n",
      "668\n",
      "669\n",
      "670\n",
      "671\n",
      "672\n",
      "673\n",
      "674\n",
      "675\n",
      "676\n",
      "677\n",
      "678\n",
      "679\n",
      "680\n",
      "681\n",
      "682\n",
      "683\n",
      "684\n",
      "685\n",
      "686\n",
      "687\n",
      "688\n",
      "689\n",
      "690\n",
      "691\n",
      "692\n",
      "693\n",
      "694\n",
      "695\n",
      "696\n",
      "697\n",
      "698\n",
      "699\n",
      "700\n",
      "701\n",
      "702\n",
      "703\n",
      "704\n",
      "705\n",
      "706\n",
      "707\n",
      "708\n",
      "709\n",
      "710\n",
      "711\n",
      "712\n",
      "713\n",
      "714\n",
      "715\n",
      "716\n",
      "717\n",
      "718\n",
      "719\n",
      "720\n",
      "721\n",
      "722\n",
      "723\n",
      "724\n",
      "725\n",
      "726\n",
      "727\n",
      "728\n",
      "729\n",
      "730\n",
      "731\n",
      "732\n",
      "733\n",
      "734\n",
      "735\n",
      "736\n",
      "737\n",
      "738\n",
      "739\n",
      "740\n",
      "741\n",
      "742\n",
      "743\n",
      "744\n",
      "745\n",
      "746\n",
      "747\n",
      "748\n",
      "749\n",
      "750\n",
      "751\n",
      "752\n",
      "753\n",
      "754\n",
      "755\n",
      "756\n",
      "757\n",
      "758\n",
      "759\n",
      "760\n",
      "761\n",
      "762\n",
      "763\n",
      "764\n",
      "765\n",
      "766\n",
      "767\n",
      "768\n",
      "769\n",
      "770\n",
      "771\n",
      "772\n",
      "773\n",
      "774\n",
      "775\n",
      "776\n",
      "777\n",
      "778\n",
      "779\n",
      "780\n",
      "781\n",
      "782\n",
      "783\n",
      "784\n",
      "785\n",
      "786\n",
      "787\n",
      "788\n",
      "789\n",
      "790\n",
      "791\n",
      "792\n",
      "793\n",
      "794\n",
      "795\n",
      "796\n",
      "797\n",
      "798\n",
      "799\n",
      "800\n",
      "801\n",
      "802\n",
      "803\n",
      "804\n",
      "805\n",
      "806\n",
      "807\n",
      "808\n",
      "809\n",
      "810\n",
      "811\n",
      "812\n",
      "813\n",
      "814\n",
      "815\n",
      "816\n",
      "817\n",
      "818\n",
      "819\n",
      "820\n",
      "821\n",
      "822\n",
      "823\n",
      "824\n",
      "825\n",
      "826\n",
      "827\n",
      "828\n",
      "829\n",
      "830\n",
      "831\n",
      "832\n",
      "833\n",
      "834\n",
      "835\n",
      "836\n",
      "837\n",
      "838\n",
      "839\n",
      "840\n",
      "841\n",
      "842\n",
      "843\n",
      "844\n",
      "845\n",
      "846\n",
      "847\n",
      "848\n",
      "849\n",
      "850\n",
      "851\n",
      "852\n",
      "853\n",
      "854\n",
      "855\n",
      "856\n",
      "857\n",
      "858\n",
      "859\n",
      "860\n",
      "861\n",
      "862\n",
      "863\n",
      "864\n",
      "865\n",
      "866\n",
      "867\n",
      "868\n",
      "869\n",
      "870\n",
      "871\n",
      "872\n",
      "873\n",
      "874\n",
      "875\n",
      "876\n",
      "877\n",
      "878\n",
      "879\n",
      "880\n",
      "881\n",
      "882\n",
      "883\n",
      "884\n",
      "885\n",
      "886\n",
      "887\n",
      "888\n",
      "889\n",
      "890\n",
      "891\n",
      "892\n",
      "893\n",
      "894\n",
      "895\n",
      "896\n",
      "897\n",
      "898\n",
      "899\n",
      "900\n",
      "901\n",
      "902\n",
      "903\n",
      "904\n",
      "905\n",
      "906\n",
      "907\n",
      "908\n",
      "909\n",
      "910\n",
      "911\n",
      "912\n",
      "913\n",
      "914\n",
      "915\n",
      "916\n",
      "917\n",
      "918\n",
      "919\n",
      "920\n",
      "921\n",
      "922\n",
      "923\n",
      "924\n",
      "925\n",
      "926\n",
      "927\n",
      "928\n",
      "929\n",
      "930\n",
      "931\n",
      "932\n",
      "933\n",
      "934\n",
      "935\n",
      "936\n",
      "937\n",
      "938\n",
      "939\n",
      "940\n",
      "941\n",
      "942\n",
      "943\n",
      "944\n",
      "945\n",
      "946\n",
      "947\n",
      "948\n",
      "949\n",
      "950\n",
      "951\n",
      "952\n",
      "953\n",
      "954\n",
      "955\n",
      "956\n",
      "957\n",
      "958\n",
      "959\n",
      "960\n",
      "961\n",
      "962\n",
      "963\n",
      "964\n",
      "965\n",
      "966\n",
      "967\n",
      "968\n",
      "969\n",
      "970\n",
      "971\n",
      "972\n",
      "973\n",
      "974\n",
      "975\n",
      "976\n",
      "977\n",
      "978\n",
      "979\n",
      "980\n",
      "981\n",
      "982\n",
      "983\n",
      "984\n",
      "985\n",
      "986\n",
      "987\n",
      "988\n",
      "989\n",
      "990\n",
      "991\n",
      "992\n",
      "993\n",
      "994\n",
      "995\n",
      "996\n",
      "997\n",
      "998\n",
      "999\n",
      "1000\n",
      "1001\n",
      "1002\n",
      "1003\n",
      "1004\n",
      "1005\n",
      "1006\n",
      "1007\n",
      "1008\n",
      "1009\n",
      "1010\n",
      "1011\n",
      "1012\n",
      "1013\n",
      "1014\n",
      "1015\n",
      "1016\n",
      "1017\n",
      "1018\n",
      "1019\n",
      "1020\n",
      "1021\n",
      "1022\n",
      "1023\n",
      "1024\n"
     ]
    }
   ],
   "source": [
    "# Simple idea for Example A find where the error happened and flip accordingly\n",
    "def correct_ghz():\n",
    "    qc = QuantumCircuit(quantum_register, classical_register)\n",
    "    counter=1\n",
    "    \n",
    "    for data in data_list:\n",
    "        print(counter)\n",
    "        stab_list=[]\n",
    "        ghz_list=[]\n",
    "        not_list = []\n",
    "        \n",
    "        for i,d in enumerate(data):\n",
    "            if i in stabilizer_qubits:\n",
    "                  stab_list.append([i,d])    \n",
    "            elif i in ghz_qubits:\n",
    "                  ghz_list.append([i,d])\n",
    "\n",
    "        for i,b in stab_list:\n",
    "            if b == '1':\n",
    "                for c,t in backend.coupling_map:\n",
    "                    if i in [c,t]:\n",
    "                        if i==c:\n",
    "                            not_list.append(t)\n",
    "                        elif i==t:\n",
    "                            not_list.append(c)\n",
    "        \n",
    "        not_list=list(set(not_list))\n",
    "        counter+=1\n",
    "\n",
    "        for i in not_list:\n",
    "            qc.x(quantum_register[i])\n",
    "\n",
    "    return qc\n",
    "\n",
    "\n",
    "correcting_circuit = correct_ghz()"
   ]
  },
  {
   "cell_type": "markdown",
   "id": "76751955-fa29-40d8-a033-0949d94af4f2",
   "metadata": {
    "slideshow": {
     "slide_type": "-"
    },
    "tags": []
   },
   "source": [
    "Y si ahora adaptáramos el código anterior a nuestro caso de GHZ de 54, podríamos construir todo junto:"
   ]
  },
  {
   "cell_type": "code",
   "execution_count": 23,
   "id": "ff234bbb-4ef5-461e-b6e0-2d23ba62ddba",
   "metadata": {
    "slideshow": {
     "slide_type": "-"
    },
    "tags": []
   },
   "outputs": [],
   "source": [
    "# Everything together corrected\n",
    "\n",
    "error_corrected_ghz = (\n",
    "    ghz_circuit.compose(unentangle_circuit)\n",
    "    .compose(stabilizer_circuit)\n",
    "    .compose(correcting_circuit)\n",
    "    .compose(measure_circuit)\n",
    ")"
   ]
  },
  {
   "cell_type": "markdown",
   "id": "c71cfe66-a165-47d6-b8d2-b819c4b0ccb4",
   "metadata": {
    "slideshow": {
     "slide_type": "-"
    },
    "tags": []
   },
   "source": [
    "## Paso 2: Por qué considerar estabilizadores individuales podría no ser suficiente.\n",
    "\n",
    "En el ejercicio de corrección de errores, hemos visto que puedes usar bits individuales o toda la cadena de bits de la medición de los qubits estabilizadores para condicionar las operaciones en ellos.\n",
    "\n",
    "Dado que nuestras mediciones de estabilizador tienen una longitud de 54 bits, no es factible usar cadenas de bits completas para condicionarlas, ya que esto necesitaría 2^54 cadenas de bits diferentes que deben tenerse en cuenta.\n",
    "\n",
    "\n",
    "Por otro lado, si solo consideramos un solo bit, podría no ser posible/demasiado complicado.\n",
    "\n",
    "\n",
    "**Ejemplo B**: Tenemos nuevamente 10 qubits conectados en una línea y formamos un estado GHZ con ellos:\n",
    "\n",
    "0 - 1 - 2 - 3 - 4 - 5 - 6 - 7 - 8 - 9\n",
    "\n",
    "Ahora asumimos que obtenemos como resultado de la medición 0000010000\n",
    "\n",
    "Si tenemos medidas de estabilizadores, en este caso el de la derecha del 1 y el de la izquierda del 1 tendrían ambos valor 1.\n",
    "\n",
    "Esto significa que, en este caso, mirar un solo estabilizador no sería suficiente para saber que solo necesitas invertir el qubit número 5 (y ningún otro), a menos que estemos de acuerdo con voltear algunos qubits varias veces, lo cual no es lo ideal.\n",
    "\n",
    "Entonces, en este caso, sería ideal si pudiéramos aplicar funciones a los resultados de medición de los estabilizadores y usar sus resultados como condiciones en los circuitos dinámicos.\n",
    "\n",
    "Esto es posible, sin embargo, debe hacerse en el código Open QASM3, en lugar de en Qiskit, que no se tratará en este ejercicio.\n",
    "Si estás interesado en obtener más información sobre los circuitos dinámicos con Open QASM3, puedes encontrar información al respecto aquí:\n",
    "\n",
    "https://quantum-computing.ibm.com/services/resources/docs/resources/manage/systems/dynamic-circuits/Dynamic-Circuits-basics-with-OpenQASM3\n",
    "\n",
    "\n",
    "A continuación se muestra un ejemplo simple para mostrarte cómo se ve el código Open QASM3:\n"
   ]
  },
  {
   "cell_type": "code",
   "execution_count": 24,
   "id": "4e502711-6741-4082-a055-ff4f03dbef11",
   "metadata": {
    "slideshow": {
     "slide_type": "-"
    },
    "tags": []
   },
   "outputs": [
    {
     "name": "stdout",
     "output_type": "stream",
     "text": [
      "OPENQASM 3;\n",
      "bit[2] c;\n",
      "rz(-3.141592653589793) $0;\n",
      "sx $0;\n",
      "rz(-1.5707963267948966) $1;\n",
      "sx $1;\n",
      "rz(-3.141592653589793) $1;\n",
      "ecr $1, $0;\n",
      "rz(-1.5707963267948966) $0;\n",
      "sx $0;\n",
      "rz(1.5707963267948966) $0;\n",
      "rz(1.5707963267948966) $1;\n",
      "sx $1;\n",
      "rz(1.5707963267948966) $1;\n",
      "c[0] = measure $0;\n",
      "c[1] = measure $0;\n",
      "\n"
     ]
    },
    {
     "data": {
      "image/png": "[encoded data removed]",
      "text/plain": [
       "<Figure size 925.052x284.278 with 1 Axes>"
      ]
     },
     "execution_count": 24,
     "metadata": {},
     "output_type": "execute_result"
    }
   ],
   "source": [
    "from qiskit import qasm3, QuantumCircuit, transpile\n",
    "\n",
    "# Creating a bell circuit\n",
    "qc_bell = QuantumCircuit(2, 2)\n",
    "qc_bell.h(0)\n",
    "qc_bell.cx(0, 1)\n",
    "qc_bell.measure(0, 0)\n",
    "qc_bell.measure(0, 1)\n",
    "\n",
    "# Transpiling it for our device (as above it does not have the H- and CX- Gates)\n",
    "qc_bell = transpile(qc_bell, backend)\n",
    "\n",
    "# Generate qasm3 code before we can print it\n",
    "exporter = qasm3.Exporter(\n",
    "    includes=[], disable_constants=True, basis_gates=backend.configuration().basis_gates\n",
    ")\n",
    "print(qasm3_bell := exporter.dumps(qc_bell))\n",
    "\n",
    "# Draw a circuit as comparison\n",
    "qc_bell.draw(output=\"mpl\", idle_wires=False)"
   ]
  },
  {
   "cell_type": "markdown",
   "id": "9ff29862-0ee6-45d4-89cb-b1081041c84f",
   "metadata": {
    "slideshow": {
     "slide_type": "-"
    },
    "tags": []
   },
   "source": [
    "## Paso 3: Cómo no introducir más Errores\n",
    "\n",
    "Hay diferentes razones que pueden conducir a errores. La decoherencia a lo largo del tiempo y los errores introducidos en compuertas entrelazadas como la compuerta CX son dos de ellos. Ambos también pueden aplicarse a los estabilizadores y tenemos que asegurarnos de no introducir más ruido en nuestros intentos de corregirlo, ya que eso anularía todo el propósito. Esto podría ser un problema menor en el futuro, cuando la tasa de error general baje aún más, pero aún es algo que debe tenerse en cuenta.\n",
    "\n",
    "¿Qué significa esto para nosotros?\n",
    "\n",
    "Bueno, uno puede pensar en cuándo queremos crear y medir los estabilizadores. ¿Los desentrelazamos directamente después de que ya no se usan para entrelazar el próximo qubit? ¿Esperamos hasta que todo el circuito esté entrelazado? (Esto, por supuesto, depende de qué tipo de errores queramos corregir). También podemos pensar en resetear los estabilizadores y crear otros nuevos más tarde (utilizando los mismos qubits) y utilizar 2 fases en las que intentamos corregir errores.\n",
    "\n",
    "\n",
    "\n",
    "Y podemos pensar cuál es la probabilidad de que se produzca un error al entrelazar un qubit (a través del estabilizador) y compararlo con la probabilidad de que se introduzca un error en el estabilizador al desentrelazarlo. Entonces, ¿tal vez tener los estabilizadores solo lo empeora?\n",
    "\n",
    "¿Cuándo vale la pena esto? Puedes jugar con el código a continuación para obtener algunas impresiones e ideas, nuevamente, esto es algo que puede cambiar en el futuro, cuando las tasas de error disminuyan aún más."
   ]
  },
  {
   "cell_type": "code",
   "execution_count": 25,
   "id": "2e2e7294-df6e-4d99-bcce-5469c09a40df",
   "metadata": {
    "slideshow": {
     "slide_type": "-"
    },
    "tags": []
   },
   "outputs": [
    {
     "name": "stdout",
     "output_type": "stream",
     "text": [
      "Probability of a single cx having an error: 0.01\n",
      "Probability of having an error after 2 cx: 0.0198\n",
      "Probability of the stabilizer showing a non existent error: 0.0099\n"
     ]
    }
   ],
   "source": [
    "# All the probabilities here only consider errors introduced by the CX gate and assumes they are bit flip errors.\n",
    "\n",
    "# Probability for a single CX gate\n",
    "p1 = 0.01\n",
    "# Probability that there is an error after 2 CX gates (going through stabilizer)\n",
    "p2 = p1 * (1 - p1) + (1 - p1) * p1\n",
    "# Probability that the stabilizer shows something wrong even though it is correct\n",
    "p3 = p1 * p1 + (1 - p1) * (1 - p1) * p1\n",
    "\n",
    "print(\"Probability of a single cx having an error: {}\".format(p1))\n",
    "print(\"Probability of having an error after 2 cx: {:.4f}\".format(p2))\n",
    "print(\"Probability of the stabilizer showing a non existent error: {:.4f}\".format(p3))"
   ]
  },
  {
   "cell_type": "markdown",
   "id": "a122c390-a440-4ad0-9838-deb55ecd1d17",
   "metadata": {
    "slideshow": {
     "slide_type": "-"
    },
    "tags": []
   },
   "source": [
    "## Paso 4: ¿Qué se puede hacer?\n",
    "\n",
    "Hay muchas posibilidades que puedes probar:\n",
    "\n",
    "\n",
    "\n",
    "- Puedes intentar encontrar algunas buenas funciones lógicas usando varios estabilizadores y usar QASM3\n",
    "\n",
    "- Puedes pensar en restablecer los estabilizadores y reutilizarlos.\n",
    "\n",
    "- Puedes probar si el enfoque simple como se ve en el ejemplo A podría funcionar (cambiando el momento en que se realizan las mediciones).\n",
    "\n",
    "- ¡Puedes encontrar tu propia idea! ¡sé creativo!\n",
    "\n",
    "\n",
    "Lo que es importante para todos ellos es que no solo comiences a probar ciegamente en la computadora cuántica, sino que primero intentes verificar tus ideas utilizando los datos al dejar que el estado GHZ inicial se ejecute en el dispositivo.\n",
    "\n",
    "Has creado datos de prueba arriba: tienes la salida del estado GHZ y también la salida de los estabilizadores.\n",
    "\n",
    "\n",
    "Si tu enfoque no funciona como posprocesamiento, entonces ejecutarlo en el dispositivo real, donde todas las operaciones tienen una tasa de error adicional, tampoco funcionará.\n",
    "\n",
    "Cuando tienes un algoritmo que funciona en teoría con los datos que tienes y generaste un mejor estado GHZ de acuerdo con tu prueba, puedes usar el código a continuación para intentar que todo tu circuito, incluida la corrección de errores, se ejecute en el dispositivo real.\n",
    "\n",
    "*Hint: asegúrate de usar la función error_correction anterior y también genera el error_corrected_ghz anterior.*"
   ]
  },
  {
   "cell_type": "code",
   "execution_count": 26,
   "id": "e073f632-2e2d-4d53-b615-d86c8ef5c5e2",
   "metadata": {
    "slideshow": {
     "slide_type": "-"
    },
    "tags": []
   },
   "outputs": [
    {
     "name": "stdout",
     "output_type": "stream",
     "text": [
      "chnflfqnajhpa63nfolg\n"
     ]
    }
   ],
   "source": [
    "# First we transpile the GHZ-state for the actual device\n",
    "qc_corrected_transpiled = transpile(\n",
    "    error_corrected_ghz, backend, initial_layout=initial_layout\n",
    ")\n",
    "\n",
    "# Now we can run the job\n",
    "job_corrected = backend.run(\n",
    "    qc_corrected_transpiled,\n",
    "    dynamic=True,\n",
    "    shots=number_of_shots,\n",
    "    # memory=True,\n",
    "    job_tags=[\"dynamic\", \"spring_challenge\"],\n",
    ")\n",
    "\n",
    "job_id = job_corrected.job_id()\n",
    "print(job_id)"
   ]
  },
  {
   "cell_type": "code",
   "execution_count": 12,
   "id": "0ec3e8e8-d13e-49d3-bb33-7c4e60e05d7d",
   "metadata": {
    "tags": []
   },
   "outputs": [
    {
     "data": {
      "text/plain": [
       "<JobStatus.DONE: 'job has successfully run'>"
      ]
     },
     "execution_count": 12,
     "metadata": {},
     "output_type": "execute_result"
    }
   ],
   "source": [
    "job_corrected = provider.retrieve_job('chnflfqnajhpa63nfolg')\n",
    "job_corrected.status()"
   ]
  },
  {
   "cell_type": "code",
   "execution_count": 13,
   "id": "3fceaaeb-b626-47c2-9170-051619755ec5",
   "metadata": {
    "tags": []
   },
   "outputs": [],
   "source": [
    "# And get the results back\n",
    "counts_corrected = job_corrected.result().get_counts()"
   ]
  },
  {
   "cell_type": "code",
   "execution_count": 14,
   "id": "baa01240-c984-463d-9af2-3c9a109dcf18",
   "metadata": {
    "tags": []
   },
   "outputs": [
    {
     "data": {
      "text/plain": [
       "['0000001000000001001010100011010000110101010101000101010000111010001010100000110001010001000000101000100100000001001011100010100',\n",
       " '0000001000000001001011010010100000000101011001000101011000101011011010000000000011010110010010001000101001111001000001100010101',\n",
       " '0000001000001000000000000010100011100011110111000000001110011100100011000101100111100100010001000101100100000010000010001110100',\n",
       " '0000001000001000001001100010100000010101101101100101011001001010001010100000000011010001000001101011000010000000001101101100000',\n",
       " '0000001000001000001010000010100000000101100001001101010000111011101010100101010001110000010001001111001110010000000010001000000']"
      ]
     },
     "execution_count": 14,
     "metadata": {},
     "output_type": "execute_result"
    }
   ],
   "source": [
    "list(counts_corrected)[:5]"
   ]
  },
  {
   "cell_type": "code",
   "execution_count": 15,
   "id": "61f2acf0-1554-4d30-8118-569676658f7a",
   "metadata": {
    "tags": []
   },
   "outputs": [
    {
     "data": {
      "text/plain": [
       "1024"
      ]
     },
     "execution_count": 15,
     "metadata": {},
     "output_type": "execute_result"
    }
   ],
   "source": [
    "len(counts_corrected)"
   ]
  },
  {
   "cell_type": "code",
   "execution_count": 27,
   "id": "35741278-54d3-49b7-954e-e9a9eb38c0dc",
   "metadata": {},
   "outputs": [
    {
     "name": "stdout",
     "output_type": "stream",
     "text": [
      "23.66796875\n",
      "26\n",
      "16\n"
     ]
    }
   ],
   "source": [
    "count_after=test_ghz(list(counts_corrected))"
   ]
  },
  {
   "cell_type": "code",
   "execution_count": 28,
   "id": "dc6084ec-c3da-4f84-b27c-1755791635a4",
   "metadata": {
    "tags": []
   },
   "outputs": [
    {
     "data": {
      "text/plain": [
       "False"
      ]
     },
     "execution_count": 28,
     "metadata": {},
     "output_type": "execute_result"
    }
   ],
   "source": [
    "count_after<count_before"
   ]
  },
  {
   "cell_type": "code",
   "execution_count": 29,
   "id": "17579698-9741-4bfd-85e7-a2941aebb655",
   "metadata": {
    "tags": []
   },
   "outputs": [
    {
     "data": {
      "text/plain": [
       "15.861328125"
      ]
     },
     "execution_count": 29,
     "metadata": {},
     "output_type": "execute_result"
    }
   ],
   "source": [
    "count_before"
   ]
  },
  {
   "cell_type": "code",
   "execution_count": 30,
   "id": "817c21c7-beb0-4c41-b431-4642c9e1fc14",
   "metadata": {
    "tags": []
   },
   "outputs": [
    {
     "data": {
      "text/plain": [
       "23.66796875"
      ]
     },
     "execution_count": 30,
     "metadata": {},
     "output_type": "execute_result"
    }
   ],
   "source": [
    "count_after"
   ]
  },
  {
   "cell_type": "code",
   "execution_count": 24,
   "id": "28140b17-1aeb-4bf6-89fe-41b3284c40d6",
   "metadata": {
    "tags": []
   },
   "outputs": [
    {
     "data": {
      "text/plain": [
       "393215.1024"
      ]
     },
     "execution_count": 24,
     "metadata": {},
     "output_type": "execute_result"
    }
   ],
   "source": []
  },
  {
   "cell_type": "code",
   "execution_count": null,
   "id": "e91cf721-fdf3-4aa2-9a6a-f074147c9628",
   "metadata": {},
   "outputs": [],
   "source": []
  }
 ],
 "metadata": {
  "celltoolbar": "Slideshow",
  "kernelspec": {
   "display_name": "Python 3 (ipykernel)",
   "language": "python",
   "name": "python3"
  },
  "language_info": {
   "codemirror_mode": {
    "name": "ipython",
    "version": 3
   },
   "file_extension": ".py",
   "mimetype": "text/x-python",
   "name": "python",
   "nbconvert_exporter": "python",
   "pygments_lexer": "ipython3",
   "version": "3.10.8"
  },
  "widgets": {
   "application/vnd.jupyter.widget-state+json": {
    "state": {},
    "version_major": 2,
    "version_minor": 0
   }
  }
 },
 "nbformat": 4,
 "nbformat_minor": 5
}
